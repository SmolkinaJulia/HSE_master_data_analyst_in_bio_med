{
 "cells": [
  {
   "cell_type": "markdown",
   "id": "2bf6ad1d",
   "metadata": {},
   "source": [
    "# Adapt the editDistance function we saw in practical (copied below) to answer questions 1 and 2 below. Your function should take arguments p (pattern), t (text) and should return the edit distance of the match between P and T with the fewest edits.\n"
   ]
  },
  {
   "cell_type": "code",
   "execution_count": null,
   "id": "9f260107",
   "metadata": {},
   "outputs": [],
   "source": [
    "# def editDistance(x, y):\n",
    "    # Create distance matrix\n",
    "    D = []\n",
    "    for i in range(len(x)+1):\n",
    "        D.append([0]*(len(y)+1))\n",
    "    # Initialize first row and column of matrix\n",
    "    for i in range(len(x)+1):\n",
    "        D[i][0] = i\n",
    "    for i in range(len(y)+1):\n",
    "        D[0][i] = i\n",
    "    # Fill in the rest of the matrix\n",
    "    for i in range(1, len(x)+1):\n",
    "        for j in range(1, len(y)+1):\n",
    "            distHor = D[i][j-1] + 1\n",
    "            distVer = D[i-1][j] + 1\n",
    "            if x[i-1] == y[j-1]:\n",
    "                distDiag = D[i-1][j-1]\n",
    "            else:\n",
    "                distDiag = D[i-1][j-1] + 1\n",
    "            D[i][j] = min(distHor, distVer, distDiag)\n",
    "    # Edit distance is the value in the bottom right corner of the matrix\n",
    "    return D[-1][-1]\n",
    "\n",
    "\n",
    "\n",
    "def readGenome(filename):\n",
    "    genome = ''\n",
    "    with open(filename, 'r') as f:\n",
    "        for line in f:\n",
    "            # ignore header line with genome information\n",
    "            if not line[0] == '>':\n",
    "                genome += line.rstrip()\n",
    "    return genome"
   ]
  },
  {
   "cell_type": "markdown",
   "id": "ee181268",
   "metadata": {},
   "source": [
    "# def editDistance_1(str1, str2, m, n):\n",
    " \n",
    "    # If first string is empty, the only option is to\n",
    "    # insert all characters of second string into first\n",
    "    if m == 0:\n",
    "        return n\n",
    " \n",
    "    # If second string is empty, the only option is to\n",
    "    # remove all characters of first string\n",
    "    if n == 0:\n",
    "        return m\n",
    " \n",
    "    # If last characters of two strings are same, nothing\n",
    "    # much to do. Ignore last characters and get count for\n",
    "    # remaining strings.\n",
    "    if str1[m-1] == str2[n-1]:\n",
    "        return editDistance_1(str1, str2, m-1, n-1)\n",
    " \n",
    "    # If last characters are not same, consider all three\n",
    "    # operations on last character of first string, recursively\n",
    "    # compute minimum cost for all three operations and take\n",
    "    # minimum of three values.\n",
    "    return 1 + min(editDistance_1(str1, str2, m, n-1),    # Insert\n",
    "                   editDistance_1(str1, str2, m-1, n),    # Remove\n",
    "                   editDistance_1(str1, str2, m-1, n-1)    # Replace\n",
    "                   )"
   ]
  },
  {
   "cell_type": "code",
   "execution_count": 28,
   "id": "fe2a918f",
   "metadata": {},
   "outputs": [],
   "source": [
    "#Q1. What is the edit distance of the best match between pattern GCTGATCGATCGTACG and the excerpt of human chromosome 1?\n",
    "\n",
    "#Q2. What is the edit distance of the best match between pattern GATTTACCAGATTGAG and the excerpt of human chromosome 1?"
   ]
  },
  {
   "cell_type": "code",
   "execution_count": 31,
   "id": "65ae58ba",
   "metadata": {},
   "outputs": [],
   "source": [
    "alphabet = {'A', 'C', 'G', 'T'}\n"
   ]
  },
  {
   "cell_type": "code",
   "execution_count": 30,
   "id": "d8253617",
   "metadata": {},
   "outputs": [
    {
     "name": "stdout",
     "output_type": "stream",
     "text": [
      "Q0 =  11\n"
     ]
    }
   ],
   "source": [
    "#genome_filename = 'C:/Users/j.smolkina/OneDrive - CRITEO/Desktop/HSE/Algorithms for DNA Sequencing/chr1.GRCh38.excerpt.fasta'\n",
    "\n",
    "#t = readGenome(genome_filename)\n",
    "t_test = 'TATTGGCTATACGGTT'\n",
    "p_test = 'GCGTATGC'\n",
    "res = editDistance(t_test, p_test)\n",
    "print('Q0 = ',res)\n",
    "\n",
    "# Question1\n",
    "#p = 'GCTGATCGATCGTACG'\n",
    "#print('Q1 = ',editDistance(t, p))\n",
    "\n",
    "# Question2\n",
    "#p = 'GATTTACCAGATTGAG'\n",
    "#print('Q2 = ',editDistance(t, p))"
   ]
  },
  {
   "cell_type": "code",
   "execution_count": 9,
   "id": "57632f47",
   "metadata": {},
   "outputs": [],
   "source": [
    "#Q3. How many edges are in the graph? In other words, how many distinct pairs of reads overlap?"
   ]
  },
  {
   "cell_type": "code",
   "execution_count": 10,
   "id": "f83c375e",
   "metadata": {},
   "outputs": [],
   "source": [
    "def readFastq(filename):\n",
    "    sequences = []\n",
    "    qualities = []\n",
    "    with open(filename) as fh:\n",
    "        while True:\n",
    "            fh.readline()  # skip name line\n",
    "            seq = fh.readline().rstrip()  # read base sequence\n",
    "            fh.readline()  # skip placeholder line\n",
    "            qual = fh.readline().rstrip() # base quality line\n",
    "            if len(seq) == 0:\n",
    "                break\n",
    "            sequences.append(seq)\n",
    "            qualities.append(qual)\n",
    "    return sequences, qualities\n",
    "\n",
    "\n",
    "def overlap(a, b, min_length=3):\n",
    "    \"\"\" Return length of longest suffix of 'a' matching\n",
    "        a prefix of 'b' that is at least 'min_length'\n",
    "        characters long.  If no such overlap exists,\n",
    "        return 0. \"\"\"\n",
    "    start = 0  # start all the way at the left\n",
    "    while True:\n",
    "        start = a.find(b[:min_length], start)  # look for b's prefix in a\n",
    "        if start == -1:  # no more occurrences to right\n",
    "            return 0\n",
    "        # found occurrence; check for full suffix/prefix match\n",
    "        if b.startswith(a[start:]):\n",
    "            return len(a)-start\n",
    "        start += 1  # move just past previous match\n",
    "\n",
    "\n",
    "def smart_overlap_map(reads, k):\n",
    "    olaps = {}\n",
    "    result = {}\n",
    "    for read in reads:\n",
    "        for i in range(len(read)-k+1):\n",
    "            if read[i:i+k] not in olaps:\n",
    "                olaps[read[i:i+k]] = [read]\n",
    "            else:\n",
    "                olaps[read[i:i+k]].append(read)\n",
    "\n",
    "    count = 0\n",
    "    for read in reads:\n",
    "        read_suffix = read[-k:]\n",
    "        for possible_read in olaps[read_suffix]:\n",
    "            if possible_read != read:\n",
    "                olen = overlap(read, possible_read, k)\n",
    "                if olen > 0:\n",
    "                    count += 1\n",
    "                    result[(read, possible_read)] = olen\n",
    "\n",
    "    return result, count"
   ]
  },
  {
   "cell_type": "code",
   "execution_count": 12,
   "id": "dc31fb04",
   "metadata": {},
   "outputs": [
    {
     "name": "stdout",
     "output_type": "stream",
     "text": [
      "Number of pairs of reads overlap: 904746\n",
      "Number of reads have a suffix involved in an overlap: 7161\n"
     ]
    }
   ],
   "source": [
    "reads_filename = 'C:/Users/j.smolkina/OneDrive - CRITEO/Desktop/HSE/Algorithms for DNA Sequencing/ERR266411_1.for_asm.fastq'\n",
    "reads, _ = readFastq(reads_filename)\n",
    "pairs_olen, pairs_count = smart_overlap_map(reads, 30)\n",
    "\n",
    "# Question 3\n",
    "print(\"Number of pairs of reads overlap:\", pairs_count)\n",
    "\n",
    "# Question 4\n",
    "reads_involved = []\n",
    "for key, value in pairs_olen:\n",
    "    reads_involved.append(key)\n",
    "print(\"Number of reads have a suffix involved in an overlap:\", len(set(reads_involved)))"
   ]
  },
  {
   "cell_type": "code",
   "execution_count": null,
   "id": "5cef54c7",
   "metadata": {},
   "outputs": [],
   "source": []
  }
 ],
 "metadata": {
  "kernelspec": {
   "display_name": "Python 3",
   "language": "python",
   "name": "python3"
  },
  "language_info": {
   "codemirror_mode": {
    "name": "ipython",
    "version": 3
   },
   "file_extension": ".py",
   "mimetype": "text/x-python",
   "name": "python",
   "nbconvert_exporter": "python",
   "pygments_lexer": "ipython3",
   "version": "3.8.8"
  }
 },
 "nbformat": 4,
 "nbformat_minor": 5
}
