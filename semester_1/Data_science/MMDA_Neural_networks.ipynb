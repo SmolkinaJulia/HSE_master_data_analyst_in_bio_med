{
  "nbformat": 4,
  "nbformat_minor": 0,
  "metadata": {
    "colab": {
      "name": "MMDA: Neural networks.ipynb",
      "provenance": [],
      "collapsed_sections": []
    },
    "kernelspec": {
      "name": "python3",
      "display_name": "Python 3"
    },
    "language_info": {
      "name": "python"
    },
    "accelerator": "GPU"
  },
  "cells": [
    {
      "cell_type": "code",
      "metadata": {
        "id": "TXEiBsbEHvhO"
      },
      "source": [
        "import pandas as pd\n",
        "import numpy as np\n",
        "import seaborn as sns\n",
        "import matplotlib.pyplot as plt\n",
        "from sklearn.model_selection import train_test_split\n",
        "from sklearn.preprocessing import StandardScaler\n",
        "from sklearn.metrics import mean_squared_error\n",
        "from sklearn.metrics import r2_score\n",
        "from sklearn.model_selection import cross_val_score\n",
        "from sklearn.model_selection import GridSearchCV\n",
        "from math import sqrt\n",
        "\n",
        "%matplotlib inline"
      ],
      "execution_count": null,
      "outputs": []
    },
    {
      "cell_type": "code",
      "metadata": {
        "colab": {
          "base_uri": "https://localhost:8080/"
        },
        "id": "4BymHrC8IPjx",
        "outputId": "5fbfbf43-1901-4e0a-918d-35c29fc32c9d"
      },
      "source": [
        "!gdown --id 1W8vwqRFeMq6yBvLK4KYWPbcg3cAk2ryh\n",
        "!unzip SolData.zip"
      ],
      "execution_count": null,
      "outputs": [
        {
          "output_type": "stream",
          "name": "stdout",
          "text": [
            "Downloading...\n",
            "From: https://drive.google.com/uc?id=1W8vwqRFeMq6yBvLK4KYWPbcg3cAk2ryh\n",
            "To: /content/SolData.zip\n",
            "\r  0% 0.00/187k [00:00<?, ?B/s]\r100% 187k/187k [00:00<00:00, 57.0MB/s]\n",
            "Archive:  SolData.zip\n",
            "replace solTrainY.csv? [y]es, [n]o, [A]ll, [N]one, [r]ename: y\n",
            "  inflating: solTrainY.csv           \n",
            "replace __MACOSX/._solTrainY.csv? [y]es, [n]o, [A]ll, [N]one, [r]ename: A\n",
            "  inflating: __MACOSX/._solTrainY.csv  \n",
            "  inflating: solTrainX.csv           \n",
            "  inflating: __MACOSX/._solTrainX.csv  \n",
            "  inflating: solTestX.csv            \n",
            "  inflating: __MACOSX/._solTestX.csv  \n",
            "  inflating: solTrainXtrans.csv      \n",
            "  inflating: __MACOSX/._solTrainXtrans.csv  \n",
            "  inflating: solTestY.csv            \n",
            "  inflating: __MACOSX/._solTestY.csv  \n",
            "  inflating: solTestXtrans.csv       \n",
            "  inflating: __MACOSX/._solTestXtrans.csv  \n"
          ]
        }
      ]
    },
    {
      "cell_type": "code",
      "metadata": {
        "colab": {
          "base_uri": "https://localhost:8080/"
        },
        "id": "3v4nY-L9If9P",
        "outputId": "84643531-6733-46ef-a7cb-addec7ce5783"
      },
      "source": [
        "trainX = pd.read_csv('solTrainXtrans.csv', index_col=0)\n",
        "trainY = pd.read_csv('solTrainY.csv', index_col=0)\n",
        "trainX.shape, trainY.shape"
      ],
      "execution_count": null,
      "outputs": [
        {
          "output_type": "execute_result",
          "data": {
            "text/plain": [
              "((951, 228), (951, 1))"
            ]
          },
          "metadata": {},
          "execution_count": 18
        }
      ]
    },
    {
      "cell_type": "code",
      "metadata": {
        "colab": {
          "base_uri": "https://localhost:8080/"
        },
        "id": "P6XhlB6dIqHi",
        "outputId": "aaf62fd6-558d-48a6-9ee1-5dc63ae6a90c"
      },
      "source": [
        "testX = pd.read_csv('solTestXtrans.csv', index_col=0)\n",
        "testY = pd.read_csv('solTestY.csv', index_col=0)\n",
        "testX.shape, testY.shape"
      ],
      "execution_count": null,
      "outputs": [
        {
          "output_type": "execute_result",
          "data": {
            "text/plain": [
              "((316, 228), (316, 1))"
            ]
          },
          "metadata": {},
          "execution_count": 19
        }
      ]
    },
    {
      "cell_type": "markdown",
      "metadata": {
        "id": "Mev2ij6oIuVJ"
      },
      "source": [
        "# Tensorflow installation"
      ]
    },
    {
      "cell_type": "markdown",
      "metadata": {
        "id": "nCuLXXl1IwYL"
      },
      "source": [
        "```sh\n",
        "pip install --upgrade pip\n",
        "pip install tensorflow\n",
        "```  \n",
        "Details: https://www.tensorflow.org/install\n",
        "\n",
        "Already installed in the Colaboratory."
      ]
    },
    {
      "cell_type": "markdown",
      "metadata": {
        "id": "IRqcaV5rJYVZ"
      },
      "source": [
        "# Keras models"
      ]
    },
    {
      "cell_type": "code",
      "metadata": {
        "id": "dPU-O4zPIqtz"
      },
      "source": [
        "import numpy\n",
        "from sklearn.model_selection import GridSearchCV\n",
        "from tensorflow.keras.models import Sequential\n",
        "from tensorflow.keras.layers import Dense, Input\n",
        "from tensorflow.keras.wrappers.scikit_learn import KerasRegressor\n",
        "import multiprocessing\n",
        "from tensorflow.keras.optimizers import Adam"
      ],
      "execution_count": null,
      "outputs": []
    },
    {
      "cell_type": "code",
      "metadata": {
        "id": "MeAJwMEoJUhm"
      },
      "source": [
        "num_features = trainX.shape[1]"
      ],
      "execution_count": null,
      "outputs": []
    },
    {
      "cell_type": "code",
      "metadata": {
        "id": "jFw9_wYYJf9r"
      },
      "source": [
        "layers = [\n",
        "  Input(shape=(num_features, ), dtype='float32'),\n",
        "  Dense(500, activation='sigmoid'),\n",
        "  Dense(1, activation='linear')\n",
        "]\n",
        "\n",
        "model = Sequential(layers)"
      ],
      "execution_count": null,
      "outputs": []
    },
    {
      "cell_type": "code",
      "metadata": {
        "id": "4uEkUUc-Jz0r"
      },
      "source": [
        "model.compile(loss='mse', optimizer='adam', metrics=['mse'])"
      ],
      "execution_count": null,
      "outputs": []
    },
    {
      "cell_type": "code",
      "metadata": {
        "id": "aNCfccdVJ-BQ"
      },
      "source": [
        "history = model.fit(trainX, trainY, epochs=128, batch_size=32, validation_split=0.3, verbose=0)"
      ],
      "execution_count": null,
      "outputs": []
    },
    {
      "cell_type": "code",
      "metadata": {
        "colab": {
          "base_uri": "https://localhost:8080/",
          "height": 297
        },
        "id": "v1lm1RV4KG3Z",
        "outputId": "93b1a591-488e-4dc9-c313-a24ffc76df9f"
      },
      "source": [
        "import matplotlib.pyplot as plt\n",
        "\n",
        "metrics = history.history\n",
        "\n",
        "plt.plot(metrics['mse'], label='Train: mse')\n",
        "plt.plot(metrics['val_mse'], label='Validation: mse')\n",
        "plt.grid()\n",
        "plt.xlabel('Epoch')\n",
        "plt.ylabel('MSE')\n",
        "plt.legend()"
      ],
      "execution_count": null,
      "outputs": [
        {
          "output_type": "execute_result",
          "data": {
            "text/plain": [
              "<matplotlib.legend.Legend at 0x7ff01fb945d0>"
            ]
          },
          "metadata": {},
          "execution_count": 25
        },
        {
          "output_type": "display_data",
          "data": {
            "image/png": "[encoded data removed]",
            "text/plain": [
              "<Figure size 432x288 with 1 Axes>"
            ]
          },
          "metadata": {
            "needs_background": "light"
          }
        }
      ]
    },
    {
      "cell_type": "code",
      "metadata": {
        "colab": {
          "base_uri": "https://localhost:8080/"
        },
        "id": "COy7H22nKMzH",
        "outputId": "417e5538-6b8a-4043-f91d-4ee983b7d87b"
      },
      "source": [
        "predictY = model.predict(testX)\n",
        "\n",
        "rmse = sqrt(mean_squared_error(testY['x'].values, predictY))\n",
        "coefficient_of_dermination = r2_score(testY['x'].values, predictY)\n",
        "print (\"RMSE: \", rmse, \"R^2: \", coefficient_of_dermination)"
      ],
      "execution_count": null,
      "outputs": [
        {
          "output_type": "stream",
          "name": "stdout",
          "text": [
            "RMSE:  0.7305900124831156 R^2:  0.8760531245823049\n"
          ]
        }
      ]
    },
    {
      "cell_type": "code",
      "metadata": {
        "colab": {
          "base_uri": "https://localhost:8080/",
          "height": 296
        },
        "id": "YfFDvmyIVe_P",
        "outputId": "01386273-62de-4285-a65e-440acec9a884"
      },
      "source": [
        "plt.scatter(predictY, testY['x'])\n",
        "plt.grid()\n",
        "plt.xlabel('Predicted Y')\n",
        "plt.ylabel('Real Y')"
      ],
      "execution_count": null,
      "outputs": [
        {
          "output_type": "execute_result",
          "data": {
            "text/plain": [
              "Text(0, 0.5, 'Real Y')"
            ]
          },
          "metadata": {},
          "execution_count": 27
        },
        {
          "output_type": "display_data",
          "data": {
            "image/png": "[encoded data removed]",
            "text/plain": [
              "<Figure size 432x288 with 1 Axes>"
            ]
          },
          "metadata": {
            "needs_background": "light"
          }
        }
      ]
    },
    {
      "cell_type": "markdown",
      "metadata": {
        "id": "cmzKd2uKK4xv"
      },
      "source": [
        "# Model Tuning"
      ]
    },
    {
      "cell_type": "code",
      "metadata": {
        "id": "wb6o26KyKty9"
      },
      "source": [
        "def create_model(learning_rate=0.001):\n",
        "    model = Sequential()\n",
        "    model.add(Input(shape=(num_features, ), dtype='float32'))\n",
        "    model.add(Dense(500, input_dim=num_features, activation='relu'))\n",
        "    model.add(Dense(1, kernel_initializer='normal',activation='linear'))\n",
        "    # Compile model\n",
        "    optimizer = Adam(learning_rate=learning_rate)\n",
        "    model.compile(loss='mse', optimizer=optimizer, metrics=['mse'])\n",
        "    return model\n",
        "\n",
        "# fix random seed for reproducibility\n",
        "seed = 7\n",
        "numpy.random.seed(seed)\n",
        "\n",
        "# create model\n",
        "model = KerasRegressor(build_fn=create_model, verbose=0)\n",
        "\n",
        "# define the grid search parameters\n",
        "grid = {\n",
        "    \"batch_size\": [64, 128],\n",
        "    \"epochs\": [32, 64],\n",
        "    \"learning_rate\": [1e-3, 1e-4]\n",
        "}\n",
        "\n",
        "grid = GridSearchCV(\n",
        "    estimator=model, \n",
        "    param_grid=grid,\n",
        "    scoring='neg_mean_squared_error',\n",
        "    cv=2, \n",
        "    refit=True,\n",
        "    verbose=True\n",
        ")"
      ],
      "execution_count": null,
      "outputs": []
    },
    {
      "cell_type": "code",
      "metadata": {
        "colab": {
          "base_uri": "https://localhost:8080/"
        },
        "id": "66kMT1VMLt9j",
        "outputId": "9cf23c6f-7c68-4d6b-acb8-c9c6f540b240"
      },
      "source": [
        "grid_result = grid.fit(trainX, trainY)"
      ],
      "execution_count": null,
      "outputs": [
        {
          "output_type": "stream",
          "name": "stdout",
          "text": [
            "Fitting 2 folds for each of 8 candidates, totalling 16 fits\n"
          ]
        },
        {
          "output_type": "stream",
          "name": "stderr",
          "text": [
            "[Parallel(n_jobs=1)]: Using backend SequentialBackend with 1 concurrent workers.\n",
            "[Parallel(n_jobs=1)]: Done  16 out of  16 | elapsed:   32.5s finished\n"
          ]
        }
      ]
    },
    {
      "cell_type": "code",
      "metadata": {
        "colab": {
          "base_uri": "https://localhost:8080/"
        },
        "id": "uYWdb_P8LzVe",
        "outputId": "cb808f7c-d0f5-4471-faef-176ee797da97"
      },
      "source": [
        "# summarize results\n",
        "print(f\"Best: {grid_result.best_score_} using {grid_result.best_params_}\")\n",
        "\n",
        "predictY = grid_result.best_estimator_.predict(testX)\n",
        "\n",
        "rmse = sqrt(mean_squared_error(testY['x'].values, predictY))\n",
        "coefficient_of_dermination = r2_score(testY['x'].values, predictY)\n",
        "\n",
        "print (\"RMSE: \", rmse, \"R^2: \", coefficient_of_dermination)"
      ],
      "execution_count": null,
      "outputs": [
        {
          "output_type": "stream",
          "name": "stdout",
          "text": [
            "Best: -2.962698129333262 using {'batch_size': 64, 'epochs': 64, 'learning_rate': 0.001}\n",
            "RMSE:  0.6503371328653001 R^2:  0.9017878484517909\n"
          ]
        }
      ]
    }
  ]
}