{
 "cells": [
  {
   "cell_type": "markdown",
   "metadata": {
    "id": "SJvNsQ81obWS"
   },
   "source": [
    "**Задание номер 1.**\n"
   ]
  },
  {
   "cell_type": "markdown",
   "metadata": {
    "id": "HgS2ky2UojJV"
   },
   "source": [
    "Для данного задание используется Критерий Согласия Пирсона. \n",
    "Вычисляется статистика χ, после чего по таблице определяется соответствующее значение p для данного количества степеней свободы.\n",
    "\n",
    "$\\chi^2$=∑$\\frac{(O-E)^2}{E}$\n",
    "\n",
    "Где O - Observed, наблюдаемое значение\n",
    "\n",
    "E - expected, ожидаемое значение "
   ]
  },
  {
   "cell_type": "code",
   "execution_count": 4,
   "metadata": {
    "id": "FZ-x-TYklYm0"
   },
   "outputs": [],
   "source": [
    "#from IPython.display import Image\n",
    "from scipy.stats import chisquare\n",
    "import numpy as np"
   ]
  },
  {
   "cell_type": "code",
   "execution_count": 5,
   "metadata": {
    "colab": {
     "base_uri": "https://localhost:8080/"
    },
    "id": "Y9oZ9IkqDddp",
    "outputId": "4f8af670-d538-4b3a-e7f5-f93efc6b7ed1"
   },
   "outputs": [
    {
     "data": {
      "text/plain": [
       "11.857142857142858"
      ]
     },
     "execution_count": 5,
     "metadata": {},
     "output_type": "execute_result"
    }
   ],
   "source": [
    "Obs = np.array([7,12,9,17,10,13,15]) \n",
    "#Наблюдаемое количество деревьев на каждом участке. \n",
    "#np.array - функция numpy для создания массива\n",
    "\n",
    "Exp = np.mean(Obs) \n",
    "#Ожидаемое среднее количество деревьев на участке при верности нулевой гипотезы\n",
    "#mean - функция numpy для вычисления среднего\n",
    "Exp"
   ]
  },
  {
   "cell_type": "code",
   "execution_count": 6,
   "metadata": {
    "colab": {
     "base_uri": "https://localhost:8080/"
    },
    "id": "CYTf0MbkDora",
    "outputId": "828a9e97-d2ec-4eaf-d8d7-318727d2de5a"
   },
   "outputs": [
    {
     "data": {
      "text/plain": [
       "6.144578313253012"
      ]
     },
     "execution_count": 6,
     "metadata": {},
     "output_type": "execute_result"
    }
   ],
   "source": [
    "chi_squared = sum((Obs-Exp)**2/Exp)\n",
    "#вычисление хи-квадрат статистики в соответствии с формулой выше\n",
    "chi_squared"
   ]
  },
  {
   "cell_type": "markdown",
   "metadata": {
    "id": "APDlRIefHgZL"
   },
   "source": [
    "Так как у нас 7 участков, то у нас 7 - 1 = 6 степеней свободы. Соответственно обращаемся к таблице распределения Хи-квадрат к строке с 6 степенями свободы. Видно, что Хи-квадрат 6.144 и 6 степеней значений p-value находится между 0.3 и 0.5. Число сосен варьируется несущественно.\n",
    "\n",
    "![TABLE](Screenshot.png)\n",
    "\n",
    "Таблица взята из статьи википедии Chi-square distribution."
   ]
  },
  {
   "cell_type": "code",
   "execution_count": 7,
   "metadata": {
    "colab": {
     "base_uri": "https://localhost:8080/"
    },
    "id": "nG-q5zpA9_Jd",
    "outputId": "b6cb59b3-a41f-4be4-d299-9cd63dd124ea"
   },
   "outputs": [
    {
     "data": {
      "text/plain": [
       "Power_divergenceResult(statistic=6.144578313253012, pvalue=0.4071909014008217)"
      ]
     },
     "execution_count": 7,
     "metadata": {},
     "output_type": "execute_result"
    }
   ],
   "source": [
    "chisquare(Obs) \n",
    "#проверка с помощью функции chisquare библиотеки scipy.stats\n",
    "#данная функция принимает на вход массив значений"
   ]
  },
  {
   "cell_type": "markdown",
   "metadata": {
    "id": "Tqx9j50bIjbP"
   },
   "source": [
    "Функция подтвердила результат вычислений \"вручную\" выше"
   ]
  },
  {
   "cell_type": "markdown",
   "metadata": {
    "id": "kH7foVZ9IrRm"
   },
   "source": [
    "**Ответ**: Число сосен варьируется несущественно"
   ]
  },
  {
   "cell_type": "code",
   "execution_count": null,
   "metadata": {
    "id": "HrLgTaZvI6Is"
   },
   "outputs": [],
   "source": []
  },
  {
   "cell_type": "markdown",
   "metadata": {
    "id": "Og2BC0IZJGMP"
   },
   "source": [
    "**Задание номер 2.**"
   ]
  },
  {
   "cell_type": "markdown",
   "metadata": {},
   "source": [
    "Так как число событий досточно велико, то можно использовать приближение биномиального распределения к нормальному и получить Z-статистику, а затем её оценить по таблице. Так как формулировка \"Пруды различаются\", а не \"Один пруд более заражён, чем другой\", то берём двухсторонний случай.\n",
    "Z = (n/N - m/M)/(D1+D2)^0.5"
   ]
  },
  {
   "cell_type": "code",
   "execution_count": 8,
   "metadata": {},
   "outputs": [],
   "source": [
    "#также подойдёт chi-squared test and fisher's exact test 3-я презентация\n",
    "n = 20\n",
    "N = 50\n",
    "m = 32\n",
    "M = 50\n",
    "p = (n+m)/(N+M) # Вероятность успеха\n",
    "D1 = p*(1-p)/N # Дисперсия\n",
    "D2 = p*(1-p)/M"
   ]
  },
  {
   "cell_type": "code",
   "execution_count": 9,
   "metadata": {},
   "outputs": [
    {
     "data": {
      "text/plain": [
       "(0.52, 0.004992, 0.004992)"
      ]
     },
     "execution_count": 9,
     "metadata": {},
     "output_type": "execute_result"
    }
   ],
   "source": [
    "p, D1, D2"
   ]
  },
  {
   "cell_type": "code",
   "execution_count": 10,
   "metadata": {},
   "outputs": [
    {
     "data": {
      "text/plain": [
       "-2.401922307076307"
      ]
     },
     "execution_count": 10,
     "metadata": {},
     "output_type": "execute_result"
    }
   ],
   "source": [
    "Z = (n/N - m/M) / (D1+D2)**0.5\n",
    "Z"
   ]
  },
  {
   "cell_type": "markdown",
   "metadata": {},
   "source": [
    "Далее сравниваем с таблицей нормального распределения\n",
    "\n",
    "![TABLE](Screenshot_Z.png)\n",
    "\n",
    "Получаем p-value чуть менее 0.0082*2=0.0164"
   ]
  },
  {
   "cell_type": "code",
   "execution_count": 11,
   "metadata": {},
   "outputs": [
    {
     "data": {
      "text/plain": [
       "(-2.401922307076307, 0.016309171877754974)"
      ]
     },
     "execution_count": 11,
     "metadata": {},
     "output_type": "execute_result"
    }
   ],
   "source": [
    "#Теперь проверяем вычисления с помощью функции из библиотеки statsmodels\n",
    "from statsmodels.stats.proportion import proportions_ztest\n",
    "Z, pval = proportions_ztest([n,m],[N, M], alternative = 'two-sided')\n",
    "Z, pval #полученные значения совпадают"
   ]
  },
  {
   "cell_type": "markdown",
   "metadata": {},
   "source": [
    "**Ответ**: На уровне значимости 0.0164 можно утверждать о том, что пруды различаются по заражённости"
   ]
  },
  {
   "cell_type": "code",
   "execution_count": null,
   "metadata": {},
   "outputs": [],
   "source": []
  },
  {
   "cell_type": "markdown",
   "metadata": {},
   "source": [
    "**Задание номер 3.**"
   ]
  },
  {
   "cell_type": "code",
   "execution_count": 12,
   "metadata": {},
   "outputs": [],
   "source": [
    "T = 9594\n",
    "A = 8954\n",
    "G = 5863\n",
    "C = 5492\n",
    "N = 29903\n",
    "TA = 2377"
   ]
  },
  {
   "cell_type": "markdown",
   "metadata": {},
   "source": []
  },
  {
   "cell_type": "markdown",
   "metadata": {},
   "source": [
    "По сути у нас 9594 T после которых может встретиться A с вероятностью A/N.\n",
    "То есть 9594 попыток с вероятностью успеха p. \n",
    "Попыток много, число успехов велико. Можно использовать нормальное приближение биноминального распределения.\n",
    "\n",
    "Посчитаем ожидаемое число TA, при предположении независимости появления букв в геноме:\n",
    "$\\mu$ = T\\*A/N , а также p и $\\sigma$"
   ]
  },
  {
   "cell_type": "code",
   "execution_count": 13,
   "metadata": {},
   "outputs": [
    {
     "data": {
      "text/plain": [
       "(2872.7778483764173, 0.29943483931378123, 79.20139170989613)"
      ]
     },
     "execution_count": 13,
     "metadata": {},
     "output_type": "execute_result"
    }
   ],
   "source": [
    "mu = T*A/N\n",
    "p = A / N\n",
    "sigma = (N * p * (1-p)) ** 0.5\n",
    "mu, p, sigma"
   ]
  },
  {
   "cell_type": "markdown",
   "metadata": {},
   "source": [
    "Далее смотрим на сколько стандартных отклонений отличается наблюдаемое значение TA от среднего.\n",
    "Z = (TA-mu)/sigma\n",
    "Так как смотрим отличие наблюдаемого значения от ожидаемого в любую сторону, то имеем двухсторонний случай"
   ]
  },
  {
   "cell_type": "code",
   "execution_count": 14,
   "metadata": {},
   "outputs": [
    {
     "data": {
      "text/plain": [
       "-6.259711321644243"
      ]
     },
     "execution_count": 14,
     "metadata": {},
     "output_type": "execute_result"
    }
   ],
   "source": [
    "Z = (TA-mu)/sigma\n",
    "Z"
   ]
  },
  {
   "cell_type": "markdown",
   "metadata": {},
   "source": [
    "По таблице определяем, что Z = -3.0 было бы достаточно для одностороннего случая, и Z = -3.3 было бы достаточно для двухстороннего случая, чтоб отвергнуть нулевую гипотезу, что нет значимого отличия полученной частоты ТА от ожидаемой\n",
    "\n",
    "![TABLE](Screenshot_Z.png)"
   ]
  },
  {
   "cell_type": "markdown",
   "metadata": {},
   "source": [
    "**Ответ**: При пороге значимости $\\alpha$ = 0.001 значимое отличие ожидаемой частоты TA от наблюдаемой имеется."
   ]
  },
  {
   "cell_type": "code",
   "execution_count": null,
   "metadata": {},
   "outputs": [],
   "source": []
  },
  {
   "cell_type": "markdown",
   "metadata": {},
   "source": [
    "**Задание номер 4.** #можно свести к биноминальному распределению"
   ]
  },
  {
   "cell_type": "code",
   "execution_count": 15,
   "metadata": {},
   "outputs": [],
   "source": [
    "values = np.array([62.2, 58.7, 59.7, 58.7, 60.0, 62.0, 61.5, 58.2, 61.9, 59.1, 61.3, 60.0, 61.7, 59.6, 61.3, 61.8, 64.3, 62.0, 61.8]) #массив наблюдений"
   ]
  },
  {
   "cell_type": "code",
   "execution_count": 16,
   "metadata": {},
   "outputs": [
    {
     "data": {
      "text/plain": [
       "19"
      ]
     },
     "execution_count": 16,
     "metadata": {},
     "output_type": "execute_result"
    }
   ],
   "source": [
    "n = len(values)\n",
    "n #количество наблюдений"
   ]
  },
  {
   "cell_type": "markdown",
   "metadata": {},
   "source": [
    "Я должен отметить, что так как:\n",
    "а) нигде нет информации о том, что распределение нормальное (Не подойдёт t-test)\n",
    "б) Число наблюдений всего 19 (не подойдёт Z-test)\n",
    "в) И даже никак не гарантировано что медиана температуры источника была/есть близка к средней температуре (это мешает использовать парный критерий и критерий знаков)\n",
    "(Например, значительную часть времени температура источника может быть 50C, но иногда случаются выбросы 120C, что смещает среднее до 61.5С, но не среднее.\n",
    "Как итог, например, мы можем намерить множество температур от 50 до 60 и один 120С, по результатам теста они почти все окажутся меньше 61.5С, что будет статистически значимо, \n",
    "но таким образом мы докажем, что медиана меньше 61.5, а не среднее).\n",
    "\n",
    "По моему личному мнению, так как об изначальном поведении источника неизвестно ничего, кроме среднего, то следует строить модель на основании температур после землятресения:\n",
    "А именно, предположить, что распределение новых температур нормальное, проверить на нормальность (например, с помощью критерия Шапиро-Уилка - имеется исследование, по\n",
    "результатам которого этот критерий, вероятно, обладает наибольшей мощностью\n",
    "https://www.researchgate.net/publication/267205556_Power_Comparisons_of_Shapiro-Wilk_Kolmogorov-Smirnov_Lilliefors_and_Anderson-Darling_Tests )\n",
    "После чего сравнить насколько далеко среднее до землятресения отклоняется от высчитанного среднего нормального распределения после землятресения.\n",
    "При этом используем t-test для n-1=18 степеней свободы, так как количество наблюдений у нас мало. \n",
    "Получилось бы что-то в этом роде:"
   ]
  },
  {
   "cell_type": "code",
   "execution_count": 17,
   "metadata": {},
   "outputs": [
    {
     "data": {
      "text/plain": [
       "ShapiroResult(statistic=0.9289318323135376, pvalue=0.1655123084783554)"
      ]
     },
     "execution_count": 17,
     "metadata": {},
     "output_type": "execute_result"
    }
   ],
   "source": [
    "from scipy.stats import shapiro\n",
    "shapiro(values) #p-несдостаточно, чтоб отвергнуть предположение о нормальности"
   ]
  },
  {
   "cell_type": "markdown",
   "metadata": {},
   "source": [
    "Далее критерий стьюдента\n",
    "\n",
    "![TABLE](Screenshot4.png)"
   ]
  },
  {
   "cell_type": "code",
   "execution_count": 18,
   "metadata": {},
   "outputs": [
    {
     "data": {
      "text/plain": [
       "Ttest_1sampResult(statistic=-1.853427681085353, pvalue=0.08028585110418404)"
      ]
     },
     "execution_count": 18,
     "metadata": {},
     "output_type": "execute_result"
    }
   ],
   "source": [
    "from scipy.stats import ttest_1samp\n",
    "ttest_1samp(values, popmean = 61.5) #pvalue < 0.0803, то есть на уровне значимости 0.0803 мы сможем утверждать, что землятресение повлияло на источник"
   ]
  },
  {
   "cell_type": "markdown",
   "metadata": {},
   "source": [
    "НО, поскольку вычисления выше - это более сложное построение, вероятно некорректное, то всё-таки предположим, что медиана и среднее источника до землятресения значительно не отличались, и используем критерий знаков.\n",
    "Смотрим сколько температур выше старого среднего (считаем это успехами), сколько ниже (считаем это неудачами). По нулевой гипотезе вероятность успеха p=0.5\n",
    "Случай, когда температура равна старому среднему интерпретируем так, как наиболее выгодно для нулевой гипотезы (отбрасывание в данном случае считаю плохой идеей, так как\n",
    "чисто логически результат равный старому среднему должен уменьшать возможность отринуть нулевую гипотезу. Поэтому считаю лучшим использовать более жёсткий тест).\n",
    "\n",
    "Используя критерий знаков получаем:"
   ]
  },
  {
   "cell_type": "code",
   "execution_count": 19,
   "metadata": {},
   "outputs": [
    {
     "data": {
      "text/plain": [
       "(8, 19, 1)"
      ]
     },
     "execution_count": 19,
     "metadata": {},
     "output_type": "execute_result"
    }
   ],
   "source": [
    "k = sum(values > 61.5) #количество успехов\n",
    "n = len(values) #всего испытаний\n",
    "zeros = sum(values == 61.5) #количество случаев, когда температура равна старому среднему\n",
    "k, n, zeros"
   ]
  },
  {
   "cell_type": "code",
   "execution_count": 20,
   "metadata": {},
   "outputs": [
    {
     "data": {
      "text/plain": [
       "0.5000000000000002"
      ]
     },
     "execution_count": 20,
     "metadata": {},
     "output_type": "execute_result"
    }
   ],
   "source": [
    "#Интерпретируем температуру равную среднему как успех (таким образом критерий становится строже)\n",
    "k = k+zeros #9 успехов\n",
    "# теперь нам нужно посчитать p-value для значений числа успехов 9 или менее. Так как мы смотрим отличие в любую сторону, то это ещё нужно будет умножить на 2.\n",
    "from scipy.stats import binom\n",
    "binom.cdf(k=k, n=n, p = 0.5)"
   ]
  },
  {
   "cell_type": "markdown",
   "metadata": {},
   "source": [
    "Так как при p = 0.5 функция симметрична, а 9 из 19 - даст ровно середину функции распределения, и тест двухсторонний, то p-value 1.00.\n",
    "Что означает, что данный тест ни на каком уровне значимости не позволит говорить об изменении средней температуры после землетрясения. \n",
    "Попробуем использовать парный критерий Вилкоксона, посчитав разницу новых значений и старого среднего (к сожалению, есть одинаковые значения, но в данном случае проблема некритична):"
   ]
  },
  {
   "cell_type": "code",
   "execution_count": 21,
   "metadata": {},
   "outputs": [
    {
     "data": {
      "text/plain": [
       "array([ 0.7, -2.8, -1.8, -2.8, -1.5,  0.5,  0. , -3.3,  0.4, -2.4, -0.2,\n",
       "       -1.5,  0.2, -1.9, -0.2,  0.3,  2.8,  0.5,  0.3])"
      ]
     },
     "execution_count": 21,
     "metadata": {},
     "output_type": "execute_result"
    }
   ],
   "source": [
    "from scipy.stats import wilcoxon\n",
    "differences = values - 61.5\n",
    "differences #разница значений температуры и старого среднего"
   ]
  },
  {
   "cell_type": "code",
   "execution_count": 23,
   "metadata": {},
   "outputs": [
    {
     "data": {
      "text/plain": [
       "WilcoxonResult(statistic=57.0, pvalue=0.21393906073122115)"
      ]
     },
     "execution_count": 23,
     "metadata": {},
     "output_type": "execute_result"
    }
   ],
   "source": [
    "wilcoxon(x = differences, y = None, alternative = 'two-sided')"
   ]
  },
  {
   "cell_type": "markdown",
   "metadata": {},
   "source": [
    "**Ответ**: При уровне значимости 0.214 или более можем утверждать, что землятресение повлияло на источник \n",
    "(хотя, по моему мнению, данных недостаточно, чтоб делать выводы. Был бы рад вашим комментариям по поводу этой задачи)"
   ]
  },
  {
   "cell_type": "code",
   "execution_count": null,
   "metadata": {},
   "outputs": [],
   "source": []
  },
  {
   "cell_type": "markdown",
   "metadata": {},
   "source": [
    "**Задание номер 5.**"
   ]
  },
  {
   "cell_type": "code",
   "execution_count": 29,
   "metadata": {},
   "outputs": [
    {
     "data": {
      "text/plain": [
       "(2.61875, 3.6660000000000004)"
      ]
     },
     "execution_count": 29,
     "metadata": {},
     "output_type": "execute_result"
    }
   ],
   "source": [
    "X = np.array([2.49, 1.01, 2.81, 2.60, 3.09, 4.60, 2.50, 1.18, 2.20, 3.12, 2.90, 3.58, 2.89, 4.48, 2.17, 1.26, 2.63, 1.17, 1.72, 1.71, 2.45, 3.75, 3.31, 3.23]) \n",
    "#Изделия первого завода\n",
    "\n",
    "Y = np.array([3.37, 2.12, 3.08, 3.57, 4.79, 1.60, 3.71, 5.48, 3.06, 5.76, 3.86, 4.43, 3.77, 4.59, 2.80, 4.11, 3.70, 2.36, 4.83, 2.33])\n",
    "#Изделия второго завода\n",
    "\n",
    "np.mean(X), np.mean(Y) #среднее двух выборок"
   ]
  },
  {
   "cell_type": "markdown",
   "metadata": {},
   "source": [
    "Для данного теста можно использовать ANOVA, которое в данном случае будет эквивалентно двухстороннему t-тесту, так как выборки всего две"
   ]
  },
  {
   "cell_type": "code",
   "execution_count": 27,
   "metadata": {},
   "outputs": [
    {
     "data": {
      "text/plain": [
       "F_onewayResult(statistic=11.052098565131523, pvalue=0.0018451142120997227)"
      ]
     },
     "execution_count": 27,
     "metadata": {},
     "output_type": "execute_result"
    }
   ],
   "source": [
    "from scipy.stats import f_oneway #функция для проведения анализа вариации\n",
    "f_oneway(X, Y) #данная функция требует подставить в неё массивы, для которых будет проводиться рассчёт. Подставляем 2 массива\n",
    "#функция считает F-статистику и ассоциированное p-value"
   ]
  },
  {
   "cell_type": "markdown",
   "metadata": {},
   "source": [
    "**Вывод**: ANOVA указывает на значимое различие средних выборок первого и второго завода (при пороге значимости ~0.002 или более). Болты со второго завода на разрыв в среднем прочнее (при этом у двух выборок предполагается одинаковая дисперсия и происхождение из нормального распределения)"
   ]
  },
  {
   "cell_type": "code",
   "execution_count": 30,
   "metadata": {},
   "outputs": [
    {
     "data": {
      "text/plain": [
       "(ShapiroResult(statistic=0.9654770493507385, pvalue=0.5577559471130371),\n",
       " ShapiroResult(statistic=0.9843093752861023, pvalue=0.9770391583442688))"
      ]
     },
     "execution_count": 30,
     "metadata": {},
     "output_type": "execute_result"
    }
   ],
   "source": [
    "shapiro(X), shapiro(Y) #нулевая гипотеза, что обе выборки происходят из нормальных распределений, критерием Шапиро-Уилка не отклоняется"
   ]
  },
  {
   "cell_type": "code",
   "execution_count": null,
   "metadata": {},
   "outputs": [],
   "source": []
  }
 ],
 "metadata": {
  "colab": {
   "name": "Applied Statistics Homework 2 Ivanov Danil.ipynb",
   "provenance": []
  },
  "kernelspec": {
   "display_name": "Python 3",
   "language": "python",
   "name": "python3"
  },
  "language_info": {
   "codemirror_mode": {
    "name": "ipython",
    "version": 3
   },
   "file_extension": ".py",
   "mimetype": "text/x-python",
   "name": "python",
   "nbconvert_exporter": "python",
   "pygments_lexer": "ipython3",
   "version": "3.8.8"
  }
 },
 "nbformat": 4,
 "nbformat_minor": 4
}
