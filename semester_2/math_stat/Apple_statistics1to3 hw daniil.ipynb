{
 "cells": [
  {
   "cell_type": "markdown",
   "metadata": {
    "id": "SJvNsQ81obWS"
   },
   "source": [
    "**Задание номер 1.**\n"
   ]
  },
  {
   "cell_type": "markdown",
   "metadata": {
    "id": "HgS2ky2UojJV"
   },
   "source": [
    "Для данного задание используется Критерий Согласия Пирсона. \n",
    "Вычисляется статистика χ, после чего по таблице определяется соответствующее значение p для данного количества степеней свободы.\n",
    "\n",
    "$\\chi^2$=∑$\\frac{(O-E)^2}{E}$\n",
    "\n",
    "Где O - Observed, наблюдаемое значение\n",
    "\n",
    "E - expected, ожидаемое значение "
   ]
  },
  {
   "cell_type": "code",
   "execution_count": 9,
   "metadata": {
    "id": "FZ-x-TYklYm0"
   },
   "outputs": [],
   "source": [
    "#from IPython.display import Image\n",
    "from scipy.stats import chisquare\n",
    "import numpy as np"
   ]
  },
  {
   "cell_type": "code",
   "execution_count": 15,
   "metadata": {
    "colab": {
     "base_uri": "https://localhost:8080/"
    },
    "id": "Y9oZ9IkqDddp",
    "outputId": "4f8af670-d538-4b3a-e7f5-f93efc6b7ed1"
   },
   "outputs": [
    {
     "data": {
      "text/plain": [
       "11.857142857142858"
      ]
     },
     "execution_count": 15,
     "metadata": {},
     "output_type": "execute_result"
    }
   ],
   "source": [
    "Obs = np.array([7,12,9,17,10,13,15]) \n",
    "#Наблюдаемое количество деревьев на каждом участке. \n",
    "#np.array - функция numpy для создания массива\n",
    "\n",
    "Exp = np.mean(Obs) \n",
    "#Ожидаемое среднее количество деревьев на участке при верности нулевой гипотезы\n",
    "#mean - функция numpy для вычисления среднего\n",
    "Exp"
   ]
  },
  {
   "cell_type": "code",
   "execution_count": 17,
   "metadata": {
    "colab": {
     "base_uri": "https://localhost:8080/"
    },
    "id": "CYTf0MbkDora",
    "outputId": "828a9e97-d2ec-4eaf-d8d7-318727d2de5a"
   },
   "outputs": [
    {
     "data": {
      "text/plain": [
       "6.144578313253012"
      ]
     },
     "execution_count": 17,
     "metadata": {},
     "output_type": "execute_result"
    }
   ],
   "source": [
    "chi_squared = sum((Obs-Exp)**2/Exp)\n",
    "#вычисление хи-квадрат статистики в соответствии с формулой выше\n",
    "chi_squared"
   ]
  },
  {
   "cell_type": "markdown",
   "metadata": {
    "id": "APDlRIefHgZL"
   },
   "source": [
    "Так как у нас 7 участков, то у нас 7 - 1 = 6 степеней свободы. Соответственно обращаемся к таблице распределения Хи-квадрат к строке с 6 степенями свободы. Видно, что Хи-квадрат 6.144 и 6 степеней значений p-value находится между 0.3 и 0.5. Число сосен варьируется несущественно.\n",
    "\n",
    "![TABLE](Screenshot.png)\n",
    "\n",
    "Таблица взята из статьи википедии Chi-square distribution."
   ]
  },
  {
   "cell_type": "code",
   "execution_count": 16,
   "metadata": {
    "colab": {
     "base_uri": "https://localhost:8080/"
    },
    "id": "nG-q5zpA9_Jd",
    "outputId": "b6cb59b3-a41f-4be4-d299-9cd63dd124ea"
   },
   "outputs": [
    {
     "data": {
      "text/plain": [
       "Power_divergenceResult(statistic=6.144578313253012, pvalue=0.4071909014008217)"
      ]
     },
     "execution_count": 16,
     "metadata": {},
     "output_type": "execute_result"
    }
   ],
   "source": [
    "chisquare(Obs) \n",
    "#проверка с помощью функции chisquare библиотеки scipy.stats\n",
    "#данная функция принимает на вход массив значений"
   ]
  },
  {
   "cell_type": "markdown",
   "metadata": {
    "id": "Tqx9j50bIjbP"
   },
   "source": [
    "Функция подтвердила результат вычислений \"вручную\" выше"
   ]
  },
  {
   "cell_type": "markdown",
   "metadata": {
    "id": "kH7foVZ9IrRm"
   },
   "source": [
    "**Ответ**: Число сосен варьируется несущественно"
   ]
  },
  {
   "cell_type": "code",
   "execution_count": null,
   "metadata": {
    "id": "HrLgTaZvI6Is"
   },
   "outputs": [],
   "source": []
  },
  {
   "cell_type": "markdown",
   "metadata": {
    "id": "Og2BC0IZJGMP"
   },
   "source": [
    "**Задание номер 2.**"
   ]
  },
  {
   "cell_type": "markdown",
   "metadata": {},
   "source": [
    "Так как число событий досточно велико, то можно использовать приближение биномиального распределения к нормальному и получить Z-статистику, а затем её оценить по таблице. Так как формулировка \"Пруды различаются\", а не \"Один пруд более заражён, чем другой\", то берём двухсторонний случай.\n",
    "Z = (n/N - m/M)/(D1+D2)^0.5"
   ]
  },
  {
   "cell_type": "code",
   "execution_count": 1,
   "metadata": {},
   "outputs": [],
   "source": [
    "#также подойдёт chi-squared test and fisher's exact test 3-я презентация\n",
    "n = 20\n",
    "N = 50\n",
    "m = 32\n",
    "M = 50\n",
    "p = (n+m)/(N+M) # Вероятность успеха\n",
    "D1 = p*(1-p)/N # Дисперсия\n",
    "D2 = p*(1-p)/M"
   ]
  },
  {
   "cell_type": "code",
   "execution_count": 3,
   "metadata": {},
   "outputs": [
    {
     "data": {
      "text/plain": [
       "(0.52, 0.004992, 0.004992)"
      ]
     },
     "execution_count": 3,
     "metadata": {},
     "output_type": "execute_result"
    }
   ],
   "source": [
    "p, D1, D2"
   ]
  },
  {
   "cell_type": "code",
   "execution_count": 5,
   "metadata": {},
   "outputs": [
    {
     "data": {
      "text/plain": [
       "-2.401922307076307"
      ]
     },
     "execution_count": 5,
     "metadata": {},
     "output_type": "execute_result"
    }
   ],
   "source": [
    "Z = (n/N - m/M) / (D1+D2)**0.5\n",
    "Z"
   ]
  },
  {
   "cell_type": "markdown",
   "metadata": {},
   "source": [
    "Далее сравниваем с таблицей нормального распределения\n",
    "\n",
    "![TABLE](Screenshot_Z.png)\n",
    "\n",
    "Получаем p-value чуть менее 0.0082*2=0.0164"
   ]
  },
  {
   "cell_type": "code",
   "execution_count": 6,
   "metadata": {},
   "outputs": [
    {
     "data": {
      "text/plain": [
       "(-2.401922307076307, 0.016309171877754974)"
      ]
     },
     "execution_count": 6,
     "metadata": {},
     "output_type": "execute_result"
    }
   ],
   "source": [
    "#Теперь проверяем вычисления с помощью функции из библиотеки statsmodels\n",
    "from statsmodels.stats.proportion import proportions_ztest\n",
    "Z, pval = proportions_ztest([n,m],[N, M], alternative = 'two-sided')\n",
    "Z, pval #полученные значения совпадают"
   ]
  },
  {
   "cell_type": "code",
   "execution_count": 5,
   "metadata": {},
   "outputs": [
    {
     "data": {
      "text/plain": [
       "(-2.401922307076307, 0.016309171877754974)"
      ]
     },
     "execution_count": 5,
     "metadata": {},
     "output_type": "execute_result"
    }
   ],
   "source": [
    "**Ответ**: На уровне значимости 0.0164 можно утверждать о том, что пруды различаются по заражённости"
   ]
  },
  {
   "cell_type": "code",
   "execution_count": null,
   "metadata": {},
   "outputs": [],
   "source": []
  },
  {
   "cell_type": "code",
   "execution_count": null,
   "metadata": {},
   "outputs": [],
   "source": [
    "**Задание номер 3.**"
   ]
  },
  {
   "cell_type": "code",
   "execution_count": 10,
   "metadata": {},
   "outputs": [],
   "source": [
    "T = 9594\n",
    "A = 8954\n",
    "G = 5863\n",
    "C = 5492\n",
    "N = 29903\n",
    "TA = 2377"
   ]
  },
  {
   "cell_type": "markdown",
   "metadata": {},
   "source": []
  },
  {
   "cell_type": "markdown",
   "metadata": {},
   "source": [
    "По сути у нас 9594 T после которых может встретиться A с вероятностью A/N.\n",
    "То есть 9594 попыток с вероятностью успеха p. \n",
    "Попыток много, число успехов велико. Можно использовать нормальное приближение биноминального распределения.\n",
    "\n",
    "Посчитаем ожидаемое число TA, при предположении независимости появления букв в геноме:\n",
    "$\\mu$ = T\\*A/N , а также p и $\\sigma$"
   ]
  },
  {
   "cell_type": "code",
   "execution_count": 14,
   "metadata": {},
   "outputs": [
    {
     "data": {
      "text/plain": [
       "(2872.7778483764173, 0.29943483931378123, 79.20139170989613)"
      ]
     },
     "execution_count": 14,
     "metadata": {},
     "output_type": "execute_result"
    }
   ],
   "source": [
    "mu = T*A/N\n",
    "p = A / N\n",
    "sigma = (N * p * (1-p)) ** 0.5\n",
    "mu, p, sigma"
   ]
  },
  {
   "cell_type": "markdown",
   "metadata": {},
   "source": [
    "Далее смотрим на сколько стандартных отклонений отличается наблюдаемое значение TA от среднего.\n",
    "Z = (TA-mu)/sigma\n",
    "Так как смотрим отличие наблюдаемого значения от ожидаемого в любую сторону, то имеем двухсторонний случай"
   ]
  },
  {
   "cell_type": "code",
   "execution_count": 15,
   "metadata": {},
   "outputs": [
    {
     "data": {
      "text/plain": [
       "-6.259711321644243"
      ]
     },
     "execution_count": 15,
     "metadata": {},
     "output_type": "execute_result"
    }
   ],
   "source": [
    "Z = (TA-mu)/sigma\n",
    "Z"
   ]
  },
  {
   "cell_type": "markdown",
   "metadata": {},
   "source": [
    "По таблице определяем, что Z = -3.0 было бы достаточно для одностороннего случая, и Z = -3.3 было бы достаточно для двухстороннего случая, чтоб отвергнуть нулевую гипотезу, что нет значимого отличия полученной частоты ТА от ожидаемой\n",
    "\n",
    "![TABLE](Screenshot_Z.png)"
   ]
  },
  {
   "cell_type": "code",
   "execution_count": null,
   "metadata": {},
   "outputs": [],
   "source": [
    "**Ответ** "
   ]
  },
  {
   "cell_type": "code",
   "execution_count": null,
   "metadata": {},
   "outputs": [],
   "source": []
  }
 ],
 "metadata": {
  "colab": {
   "name": "Applied Statistics Homework 2 Ivanov Danil.ipynb",
   "provenance": []
  },
  "kernelspec": {
   "display_name": "Python 3",
   "language": "python",
   "name": "python3"
  },
  "language_info": {
   "codemirror_mode": {
    "name": "ipython",
    "version": 3
   },
   "file_extension": ".py",
   "mimetype": "text/x-python",
   "name": "python",
   "nbconvert_exporter": "python",
   "pygments_lexer": "ipython3",
   "version": "3.8.8"
  }
 },
 "nbformat": 4,
 "nbformat_minor": 4
}
