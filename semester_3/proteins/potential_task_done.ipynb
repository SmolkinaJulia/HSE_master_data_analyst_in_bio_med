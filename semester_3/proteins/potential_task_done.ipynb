{
 "cells": [
  {
   "cell_type": "code",
   "execution_count": 1,
   "metadata": {},
   "outputs": [
    {
     "name": "stdout",
     "output_type": "stream",
     "text": [
      "Collecting Bio\n",
      "  Downloading bio-1.4.0-py3-none-any.whl (270 kB)\n",
      "Requirement already satisfied: requests in c:\\programdata\\anaconda3\\lib\\site-packages (from Bio) (2.27.1)\n",
      "Collecting mygene\n",
      "  Downloading mygene-3.2.2-py2.py3-none-any.whl (5.4 kB)\n",
      "Collecting biopython>=1.79\n",
      "  Downloading biopython-1.79-cp39-cp39-win_amd64.whl (2.3 MB)\n",
      "Requirement already satisfied: tqdm in c:\\programdata\\anaconda3\\lib\\site-packages (from Bio) (4.64.0)\n",
      "Requirement already satisfied: numpy in c:\\programdata\\anaconda3\\lib\\site-packages (from biopython>=1.79->Bio) (1.21.5)\n",
      "Collecting biothings-client>=0.2.6\n",
      "  Downloading biothings_client-0.2.6-py2.py3-none-any.whl (37 kB)\n",
      "Requirement already satisfied: urllib3<1.27,>=1.21.1 in c:\\programdata\\anaconda3\\lib\\site-packages (from requests->Bio) (1.26.9)\n",
      "Requirement already satisfied: charset-normalizer~=2.0.0 in c:\\programdata\\anaconda3\\lib\\site-packages (from requests->Bio) (2.0.4)\n",
      "Requirement already satisfied: certifi>=2017.4.17 in c:\\programdata\\anaconda3\\lib\\site-packages (from requests->Bio) (2021.10.8)\n",
      "Requirement already satisfied: idna<4,>=2.5 in c:\\programdata\\anaconda3\\lib\\site-packages (from requests->Bio) (3.3)\n",
      "Requirement already satisfied: colorama in c:\\programdata\\anaconda3\\lib\\site-packages (from tqdm->Bio) (0.4.4)\n",
      "Installing collected packages: biothings-client, mygene, biopython, Bio\n",
      "Successfully installed Bio-1.4.0 biopython-1.79 biothings-client-0.2.6 mygene-3.2.2\n"
     ]
    }
   ],
   "source": [
    "!pip install Bio"
   ]
  },
  {
   "cell_type": "code",
   "execution_count": 2,
   "metadata": {},
   "outputs": [],
   "source": [
    "import numpy as np\n",
    "from levitt_model.model import LevittModel\n",
    "from levitt_model.potential import Potential\n",
    "import Bio.PDB as pdb\n",
    "from Bio.PDB.QCPSuperimposer import QCPSuperimposer\n",
    "\n",
    "import matplotlib.pyplot as plt\n",
    "from scipy.optimize import minimize"
   ]
  },
  {
   "cell_type": "markdown",
   "metadata": {},
   "source": [
    "# Часть 0"
   ]
  },
  {
   "cell_type": "markdown",
   "metadata": {},
   "source": [
    "## 0.1. Напишите <a href=\"https://t.me/protein_course_bot\">этому боту в Telegram</a>, он вернет ID 10 тестовых белков. Загрузите первый из них и откройте его:"
   ]
  },
  {
   "cell_type": "markdown",
   "metadata": {},
   "source": [
    "https://projectswhynot.site/pdb-filtering/"
   ]
  },
  {
   "cell_type": "code",
   "execution_count": 3,
   "metadata": {},
   "outputs": [],
   "source": [
    "pdb_ids = [\"1fsd\"]"
   ]
  },
  {
   "cell_type": "code",
   "execution_count": 4,
   "metadata": {},
   "outputs": [],
   "source": [
    "pdb_list = pdb.PDBList()"
   ]
  },
  {
   "cell_type": "code",
   "execution_count": 5,
   "metadata": {},
   "outputs": [
    {
     "name": "stdout",
     "output_type": "stream",
     "text": [
      "Downloading PDB structure '1fsd'...\n"
     ]
    }
   ],
   "source": [
    "path = pdb_list.retrieve_pdb_file(pdb_ids[0], file_format=\"pdb\")"
   ]
  },
  {
   "cell_type": "code",
   "execution_count": 6,
   "metadata": {},
   "outputs": [],
   "source": [
    "struct = pdb.PDBParser().get_structure(\"s\", path)"
   ]
  },
  {
   "cell_type": "code",
   "execution_count": 7,
   "metadata": {},
   "outputs": [],
   "source": [
    "chain = struct[0].child_list[0].child_list"
   ]
  },
  {
   "cell_type": "markdown",
   "metadata": {},
   "source": [
    " "
   ]
  },
  {
   "cell_type": "markdown",
   "metadata": {},
   "source": [
    "## 0.2. Проверим применимость модели Левитта: все углы $\\omega$ должны быть около $180$ грудусов. Если получится, что это не так для взятого белка, возьмите другой."
   ]
  },
  {
   "cell_type": "code",
   "execution_count": 12,
   "metadata": {},
   "outputs": [],
   "source": [
    "omegas = []\n",
    "\n",
    "for i in range(1, len(chain)):\n",
    "    # your code here\n",
    "    omega = pdb.calc_dihedral(chain[i-1][\"CA\"].get_vector(),\n",
    "                             chain[i-1][\"C\"].get_vector(),\n",
    "                             chain[i][\"N\"].get_vector(),\n",
    "                             chain[i][\"CA\"].get_vector())\n",
    "    omegas += [omega]\n",
    "\n",
    "omegas = np.array(omegas)\n",
    "omegas[omegas < 0] += 2*np.pi"
   ]
  },
  {
   "cell_type": "code",
   "execution_count": 13,
   "metadata": {},
   "outputs": [
    {
     "data": {
      "image/png": "[encoded data removed]",
      "text/plain": [
       "<Figure size 720x360 with 1 Axes>"
      ]
     },
     "metadata": {
      "needs_background": "light"
     },
     "output_type": "display_data"
    }
   ],
   "source": [
    "plt.figure(figsize=(10,5))\n",
    "plt.hist(omegas/np.pi*180, bins=50)\n",
    "plt.show()"
   ]
  },
  {
   "cell_type": "markdown",
   "metadata": {},
   "source": [
    " "
   ]
  },
  {
   "cell_type": "markdown",
   "metadata": {},
   "source": [
    "# Часть 1"
   ]
  },
  {
   "cell_type": "markdown",
   "metadata": {},
   "source": [
    "## 1.1. Давайте посмотрим на точность модели. Получите список названий аминокислот из цепочки; получите все оригинальные углы $\\alpha_i = dihedral(C_\\alpha^{i-1}, C_\\alpha^{i}, C_\\alpha^{i+1}, C_\\alpha^{i+2})$"
   ]
  },
  {
   "cell_type": "code",
   "execution_count": 16,
   "metadata": {},
   "outputs": [],
   "source": [
    "res_names = [residue.resname for residue in chain]\n",
    "orig_alphas = []\n",
    "\n",
    "# your code here\n",
    "for i in range(1, len(chain)-2):\n",
    "    orig_alpha = pdb.calc_dihedral(chain[i-1][\"CA\"].get_vector(),\n",
    "                                   chain[i][\"CA\"].get_vector(),\n",
    "                                 chain[i+1][\"CA\"].get_vector(),\n",
    "                                  chain[i+2][\"CA\"].get_vector())\n",
    "    orig_alphas += [orig_alpha]"
   ]
  },
  {
   "cell_type": "code",
   "execution_count": 15,
   "metadata": {},
   "outputs": [
    {
     "data": {
      "text/plain": [
       "['GLN',\n",
       " 'GLN',\n",
       " 'TYR',\n",
       " 'THR',\n",
       " 'ALA',\n",
       " 'LYS',\n",
       " 'ILE',\n",
       " 'LYS',\n",
       " 'GLY',\n",
       " 'ARG',\n",
       " 'THR',\n",
       " 'PHE',\n",
       " 'ARG',\n",
       " 'ASN',\n",
       " 'GLU',\n",
       " 'LYS',\n",
       " 'GLU',\n",
       " 'LEU',\n",
       " 'ARG',\n",
       " 'ASP',\n",
       " 'PHE',\n",
       " 'ILE',\n",
       " 'GLU',\n",
       " 'LYS',\n",
       " 'PHE',\n",
       " 'LYS',\n",
       " 'GLY',\n",
       " 'ARG']"
      ]
     },
     "execution_count": 15,
     "metadata": {},
     "output_type": "execute_result"
    }
   ],
   "source": [
    "res_names"
   ]
  },
  {
   "cell_type": "code",
   "execution_count": 20,
   "metadata": {},
   "outputs": [
    {
     "data": {
      "image/png": "[encoded data removed]",
      "text/plain": [
       "<Figure size 720x360 with 1 Axes>"
      ]
     },
     "metadata": {
      "needs_background": "light"
     },
     "output_type": "display_data"
    }
   ],
   "source": [
    "plt.figure(figsize=(10,5))\n",
    "plt.hist(np.array(orig_alphas)/np.pi*180, bins=50)\n",
    "plt.show()"
   ]
  },
  {
   "cell_type": "markdown",
   "metadata": {},
   "source": [
    "Смотрим на зависимость соседних позицие - ее нет. Марковость отсутствует"
   ]
  },
  {
   "cell_type": "code",
   "execution_count": 25,
   "metadata": {},
   "outputs": [
    {
     "data": {
      "image/png": "[encoded data removed]",
      "text/plain": [
       "<Figure size 432x288 with 1 Axes>"
      ]
     },
     "metadata": {
      "needs_background": "light"
     },
     "output_type": "display_data"
    }
   ],
   "source": [
    "plt.plot(np.arange(len(chain)-3),\n",
    "         np.array(orig_alphas)/np.pi *180)\n",
    "plt.show()"
   ]
  },
  {
   "cell_type": "markdown",
   "metadata": {},
   "source": [
    "## 1.2. Получите оригинальные координаты всех атомов $C_\\alpha$; получите координаты $C_\\alpha$, воспользовавшись моделью Левитта; сравните и получите точность."
   ]
  },
  {
   "cell_type": "code",
   "execution_count": 17,
   "metadata": {},
   "outputs": [],
   "source": [
    "orig_cas = np.array([residue[\"CA\"].coord for residue in chain])\n",
    "\n",
    "model = LevittModel('table1.csv', res_names)\n",
    "pred_cas = model.dihedralsToCoords(orig_alphas)[0]"
   ]
  },
  {
   "cell_type": "code",
   "execution_count": 18,
   "metadata": {},
   "outputs": [
    {
     "name": "stdout",
     "output_type": "stream",
     "text": [
      "Точность построенной модели: 3.220481975500713\n"
     ]
    }
   ],
   "source": [
    "qsi = QCPSuperimposer()\n",
    "qsi.set(orig_cas, pred_cas)\n",
    "qsi.run()\n",
    "print(\"Точность построенной модели: {}\".format(qsi.rms))"
   ]
  },
  {
   "cell_type": "markdown",
   "metadata": {},
   "source": [
    "Хороша ли модель? 🤔"
   ]
  },
  {
   "cell_type": "markdown",
   "metadata": {},
   "source": [
    "# Часть 2"
   ]
  },
  {
   "cell_type": "code",
   "execution_count": 21,
   "metadata": {},
   "outputs": [],
   "source": [
    "potential = Potential(res_names, model, 'vdwCoeffs.csv', 'solventCoeffs.csv', 'fourierCoeffs.csv')"
   ]
  },
  {
   "cell_type": "markdown",
   "metadata": {},
   "source": [
    "## 2.1. Вычислите значения потенциала Левитта для оригинальных значений углов $\\alpha$:"
   ]
  },
  {
   "cell_type": "code",
   "execution_count": 37,
   "metadata": {},
   "outputs": [
    {
     "name": "stdout",
     "output_type": "stream",
     "text": [
      "COMPONENTS:\n",
      "\tvan der Waals and SS: 129777.31823379797\n",
      "\tSolvent: 93.96841348522291\n",
      "\tHydrogen: 2039.3420223207618\n",
      "\tNon bonded: 14.507117014747852\n"
     ]
    },
    {
     "name": "stderr",
     "output_type": "stream",
     "text": [
      "C:\\Users\\Student\\Desktop\\potential_task\\levitt_model\\potential.py:154: VisibleDeprecationWarning: Creating an ndarray from ragged nested sequences (which is a list-or-tuple of lists-or-tuples-or ndarrays with different lengths or shapes) is deprecated. If you meant to do this, you must specify 'dtype=object' when creating the ndarray.\n",
      "  _, Rs, Nss, Oss = _np.array(self._model.dihedralsToCoords(alphas, self._dist_ns_os))\n"
     ]
    },
    {
     "data": {
      "text/plain": [
       "131925.13578661872"
      ]
     },
     "execution_count": 37,
     "metadata": {},
     "output_type": "execute_result"
    }
   ],
   "source": [
    "potential.calculateEnergyPotential(orig_alphas,\n",
    "                                   verbose = True)"
   ]
  },
  {
   "cell_type": "code",
   "execution_count": 33,
   "metadata": {},
   "outputs": [
    {
     "name": "stderr",
     "output_type": "stream",
     "text": [
      "C:\\Users\\Student\\Desktop\\potential_task\\levitt_model\\potential.py:154: VisibleDeprecationWarning: Creating an ndarray from ragged nested sequences (which is a list-or-tuple of lists-or-tuples-or ndarrays with different lengths or shapes) is deprecated. If you meant to do this, you must specify 'dtype=object' when creating the ndarray.\n",
      "  _, Rs, Nss, Oss = _np.array(self._model.dihedralsToCoords(alphas, self._dist_ns_os))\n"
     ]
    },
    {
     "name": "stdout",
     "output_type": "stream",
     "text": [
      "COMPONENTS:\n",
      "\tvan der Waals and SS: 3147482202809.7646\n",
      "\tSolvent: 243.73639197769944\n",
      "\tHydrogen: 875800236.5263966\n",
      "\tNon bonded: 21.07199999999999\n"
     ]
    },
    {
     "data": {
      "text/plain": [
       "3148358003311.099"
      ]
     },
     "execution_count": 33,
     "metadata": {},
     "output_type": "execute_result"
    }
   ],
   "source": [
    "# your code here\n",
    "\n",
    "potential.calculateEnergyPotential(np.zeros(len(orig_alphas)),\n",
    "                                   verbose = True)"
   ]
  },
  {
   "cell_type": "code",
   "execution_count": 35,
   "metadata": {},
   "outputs": [
    {
     "name": "stderr",
     "output_type": "stream",
     "text": [
      "C:\\Users\\Student\\Desktop\\potential_task\\levitt_model\\potential.py:154: VisibleDeprecationWarning: Creating an ndarray from ragged nested sequences (which is a list-or-tuple of lists-or-tuples-or ndarrays with different lengths or shapes) is deprecated. If you meant to do this, you must specify 'dtype=object' when creating the ndarray.\n",
      "  _, Rs, Nss, Oss = _np.array(self._model.dihedralsToCoords(alphas, self._dist_ns_os))\n"
     ]
    },
    {
     "name": "stdout",
     "output_type": "stream",
     "text": [
      "COMPONENTS:\n",
      "\tvan der Waals and SS: -3.5483191426873115\n",
      "\tSolvent: 41.34173722993935\n",
      "\tHydrogen: 11.400045324819368\n",
      "\tNon bonded: 4.376000000000002\n"
     ]
    },
    {
     "data": {
      "text/plain": [
       "53.56946341207141"
      ]
     },
     "execution_count": 35,
     "metadata": {},
     "output_type": "execute_result"
    }
   ],
   "source": [
    "potential.calculateEnergyPotential(np.full(len(orig_alphas), np.pi),\n",
    "                                   verbose = True)"
   ]
  },
  {
   "cell_type": "code",
   "execution_count": null,
   "metadata": {},
   "outputs": [],
   "source": []
  },
  {
   "cell_type": "markdown",
   "metadata": {},
   "source": [
    "**Для обсуждения**: Хорошее ли значение получилось? 🤔"
   ]
  },
  {
   "cell_type": "markdown",
   "metadata": {},
   "source": [
    "Посмотрите на формулу потенциала. Как бы Вы объяснили такой результат?"
   ]
  },
  {
   "cell_type": "markdown",
   "metadata": {},
   "source": [
    "Просто близко расположенные атомы"
   ]
  },
  {
   "cell_type": "markdown",
   "metadata": {},
   "source": [
    "Есть большие вопросы к потенциалу!"
   ]
  },
  {
   "cell_type": "markdown",
   "metadata": {},
   "source": [
    " "
   ]
  },
  {
   "cell_type": "markdown",
   "metadata": {},
   "source": [
    "## 2.2. Посмотрим на значения потенциала в других точках. Прежде всего, проверьте, каковы значения потенциала в 'полностью растянутой' конформации (все $\\alpha = 180$) и 'полностью сжатой' (все $\\alpha = 0$). Вызывайте функцию с параметром verbose=True."
   ]
  },
  {
   "cell_type": "code",
   "execution_count": 32,
   "metadata": {},
   "outputs": [
    {
     "data": {
      "text/plain": [
       "[0.6611437635759694,\n",
       " -163.69005379849006,\n",
       " 120.79398786082632,\n",
       " -176.06199847598867,\n",
       " 159.78720055952226,\n",
       " 2.2387279169656336,\n",
       " -67.76618252476322,\n",
       " 102.07826387161913,\n",
       " -122.3422542308596,\n",
       " -140.41610219522852,\n",
       " -143.8728149405689,\n",
       " 9.762950337081927,\n",
       " -115.6870489550105,\n",
       " 67.5273820765114,\n",
       " 38.758341187217155,\n",
       " 51.88928218147468,\n",
       " 45.42241396192713,\n",
       " 50.145869681854414,\n",
       " 67.34480837789786,\n",
       " 48.05929599894995,\n",
       " 58.67603119198777,\n",
       " 33.27174357542695,\n",
       " 80.3621866005143,\n",
       " -117.6096377009557,\n",
       " 79.05667173763405]"
      ]
     },
     "execution_count": 32,
     "metadata": {},
     "output_type": "execute_result"
    }
   ],
   "source": [
    "(np.array(orig_alphas)/np.pi * 180).tolist()"
   ]
  },
  {
   "cell_type": "markdown",
   "metadata": {},
   "source": [
    "Все 0:"
   ]
  },
  {
   "cell_type": "markdown",
   "metadata": {},
   "source": [
    "Все 180:"
   ]
  },
  {
   "cell_type": "markdown",
   "metadata": {},
   "source": [
    "Какие выводы можно сделать из этих результатов?"
   ]
  },
  {
   "cell_type": "markdown",
   "metadata": {},
   "source": [
    "## 2.3. Запустим минимизацию из оригинальных значений $\\alpha$. Каким будет результат?"
   ]
  },
  {
   "cell_type": "code",
   "execution_count": 39,
   "metadata": {
    "scrolled": false
   },
   "outputs": [
    {
     "name": "stderr",
     "output_type": "stream",
     "text": [
      "C:\\Users\\Student\\Desktop\\potential_task\\levitt_model\\potential.py:154: VisibleDeprecationWarning: Creating an ndarray from ragged nested sequences (which is a list-or-tuple of lists-or-tuples-or ndarrays with different lengths or shapes) is deprecated. If you meant to do this, you must specify 'dtype=object' when creating the ndarray.\n",
      "  _, Rs, Nss, Oss = _np.array(self._model.dihedralsToCoords(alphas, self._dist_ns_os))\n",
      "C:\\Users\\Student\\Desktop\\potential_task\\levitt_model\\potential.py:317: VisibleDeprecationWarning: Creating an ndarray from ragged nested sequences (which is a list-or-tuple of lists-or-tuples-or ndarrays with different lengths or shapes) is deprecated. If you meant to do this, you must specify 'dtype=object' when creating the ndarray.\n",
      "  Cas, Rs, Nss, Oss = _np.array(self._model.dihedralsToCoords(alphas, self._dist_ns_os))\n",
      "C:\\Users\\Student\\Desktop\\potential_task\\levitt_model\\potential.py:154: VisibleDeprecationWarning: Creating an ndarray from ragged nested sequences (which is a list-or-tuple of lists-or-tuples-or ndarrays with different lengths or shapes) is deprecated. If you meant to do this, you must specify 'dtype=object' when creating the ndarray.\n",
      "  _, Rs, Nss, Oss = _np.array(self._model.dihedralsToCoords(alphas, self._dist_ns_os))\n",
      "C:\\Users\\Student\\Desktop\\potential_task\\levitt_model\\potential.py:317: VisibleDeprecationWarning: Creating an ndarray from ragged nested sequences (which is a list-or-tuple of lists-or-tuples-or ndarrays with different lengths or shapes) is deprecated. If you meant to do this, you must specify 'dtype=object' when creating the ndarray.\n",
      "  Cas, Rs, Nss, Oss = _np.array(self._model.dihedralsToCoords(alphas, self._dist_ns_os))\n",
      "C:\\Users\\Student\\Desktop\\potential_task\\levitt_model\\potential.py:154: VisibleDeprecationWarning: Creating an ndarray from ragged nested sequences (which is a list-or-tuple of lists-or-tuples-or ndarrays with different lengths or shapes) is deprecated. If you meant to do this, you must specify 'dtype=object' when creating the ndarray.\n",
      "  _, Rs, Nss, Oss = _np.array(self._model.dihedralsToCoords(alphas, self._dist_ns_os))\n",
      "C:\\Users\\Student\\Desktop\\potential_task\\levitt_model\\potential.py:317: VisibleDeprecationWarning: Creating an ndarray from ragged nested sequences (which is a list-or-tuple of lists-or-tuples-or ndarrays with different lengths or shapes) is deprecated. If you meant to do this, you must specify 'dtype=object' when creating the ndarray.\n",
      "  Cas, Rs, Nss, Oss = _np.array(self._model.dihedralsToCoords(alphas, self._dist_ns_os))\n",
      "C:\\Users\\Student\\Desktop\\potential_task\\levitt_model\\potential.py:154: VisibleDeprecationWarning: Creating an ndarray from ragged nested sequences (which is a list-or-tuple of lists-or-tuples-or ndarrays with different lengths or shapes) is deprecated. If you meant to do this, you must specify 'dtype=object' when creating the ndarray.\n",
      "  _, Rs, Nss, Oss = _np.array(self._model.dihedralsToCoords(alphas, self._dist_ns_os))\n",
      "C:\\Users\\Student\\Desktop\\potential_task\\levitt_model\\potential.py:317: VisibleDeprecationWarning: Creating an ndarray from ragged nested sequences (which is a list-or-tuple of lists-or-tuples-or ndarrays with different lengths or shapes) is deprecated. If you meant to do this, you must specify 'dtype=object' when creating the ndarray.\n",
      "  Cas, Rs, Nss, Oss = _np.array(self._model.dihedralsToCoords(alphas, self._dist_ns_os))\n",
      "C:\\Users\\Student\\Desktop\\potential_task\\levitt_model\\potential.py:154: VisibleDeprecationWarning: Creating an ndarray from ragged nested sequences (which is a list-or-tuple of lists-or-tuples-or ndarrays with different lengths or shapes) is deprecated. If you meant to do this, you must specify 'dtype=object' when creating the ndarray.\n",
      "  _, Rs, Nss, Oss = _np.array(self._model.dihedralsToCoords(alphas, self._dist_ns_os))\n",
      "C:\\Users\\Student\\Desktop\\potential_task\\levitt_model\\potential.py:317: VisibleDeprecationWarning: Creating an ndarray from ragged nested sequences (which is a list-or-tuple of lists-or-tuples-or ndarrays with different lengths or shapes) is deprecated. If you meant to do this, you must specify 'dtype=object' when creating the ndarray.\n",
      "  Cas, Rs, Nss, Oss = _np.array(self._model.dihedralsToCoords(alphas, self._dist_ns_os))\n",
      "C:\\Users\\Student\\Desktop\\potential_task\\levitt_model\\potential.py:154: VisibleDeprecationWarning: Creating an ndarray from ragged nested sequences (which is a list-or-tuple of lists-or-tuples-or ndarrays with different lengths or shapes) is deprecated. If you meant to do this, you must specify 'dtype=object' when creating the ndarray.\n",
      "  _, Rs, Nss, Oss = _np.array(self._model.dihedralsToCoords(alphas, self._dist_ns_os))\n",
      "C:\\Users\\Student\\Desktop\\potential_task\\levitt_model\\potential.py:317: VisibleDeprecationWarning: Creating an ndarray from ragged nested sequences (which is a list-or-tuple of lists-or-tuples-or ndarrays with different lengths or shapes) is deprecated. If you meant to do this, you must specify 'dtype=object' when creating the ndarray.\n",
      "  Cas, Rs, Nss, Oss = _np.array(self._model.dihedralsToCoords(alphas, self._dist_ns_os))\n",
      "C:\\Users\\Student\\Desktop\\potential_task\\levitt_model\\potential.py:154: VisibleDeprecationWarning: Creating an ndarray from ragged nested sequences (which is a list-or-tuple of lists-or-tuples-or ndarrays with different lengths or shapes) is deprecated. If you meant to do this, you must specify 'dtype=object' when creating the ndarray.\n",
      "  _, Rs, Nss, Oss = _np.array(self._model.dihedralsToCoords(alphas, self._dist_ns_os))\n",
      "C:\\Users\\Student\\Desktop\\potential_task\\levitt_model\\potential.py:317: VisibleDeprecationWarning: Creating an ndarray from ragged nested sequences (which is a list-or-tuple of lists-or-tuples-or ndarrays with different lengths or shapes) is deprecated. If you meant to do this, you must specify 'dtype=object' when creating the ndarray.\n",
      "  Cas, Rs, Nss, Oss = _np.array(self._model.dihedralsToCoords(alphas, self._dist_ns_os))\n",
      "C:\\Users\\Student\\Desktop\\potential_task\\levitt_model\\potential.py:154: VisibleDeprecationWarning: Creating an ndarray from ragged nested sequences (which is a list-or-tuple of lists-or-tuples-or ndarrays with different lengths or shapes) is deprecated. If you meant to do this, you must specify 'dtype=object' when creating the ndarray.\n",
      "  _, Rs, Nss, Oss = _np.array(self._model.dihedralsToCoords(alphas, self._dist_ns_os))\n",
      "C:\\Users\\Student\\Desktop\\potential_task\\levitt_model\\potential.py:317: VisibleDeprecationWarning: Creating an ndarray from ragged nested sequences (which is a list-or-tuple of lists-or-tuples-or ndarrays with different lengths or shapes) is deprecated. If you meant to do this, you must specify 'dtype=object' when creating the ndarray.\n",
      "  Cas, Rs, Nss, Oss = _np.array(self._model.dihedralsToCoords(alphas, self._dist_ns_os))\n",
      "C:\\Users\\Student\\Desktop\\potential_task\\levitt_model\\potential.py:154: VisibleDeprecationWarning: Creating an ndarray from ragged nested sequences (which is a list-or-tuple of lists-or-tuples-or ndarrays with different lengths or shapes) is deprecated. If you meant to do this, you must specify 'dtype=object' when creating the ndarray.\n",
      "  _, Rs, Nss, Oss = _np.array(self._model.dihedralsToCoords(alphas, self._dist_ns_os))\n",
      "C:\\Users\\Student\\Desktop\\potential_task\\levitt_model\\potential.py:317: VisibleDeprecationWarning: Creating an ndarray from ragged nested sequences (which is a list-or-tuple of lists-or-tuples-or ndarrays with different lengths or shapes) is deprecated. If you meant to do this, you must specify 'dtype=object' when creating the ndarray.\n",
      "  Cas, Rs, Nss, Oss = _np.array(self._model.dihedralsToCoords(alphas, self._dist_ns_os))\n",
      "C:\\Users\\Student\\Desktop\\potential_task\\levitt_model\\potential.py:154: VisibleDeprecationWarning: Creating an ndarray from ragged nested sequences (which is a list-or-tuple of lists-or-tuples-or ndarrays with different lengths or shapes) is deprecated. If you meant to do this, you must specify 'dtype=object' when creating the ndarray.\n",
      "  _, Rs, Nss, Oss = _np.array(self._model.dihedralsToCoords(alphas, self._dist_ns_os))\n",
      "C:\\Users\\Student\\Desktop\\potential_task\\levitt_model\\potential.py:317: VisibleDeprecationWarning: Creating an ndarray from ragged nested sequences (which is a list-or-tuple of lists-or-tuples-or ndarrays with different lengths or shapes) is deprecated. If you meant to do this, you must specify 'dtype=object' when creating the ndarray.\n",
      "  Cas, Rs, Nss, Oss = _np.array(self._model.dihedralsToCoords(alphas, self._dist_ns_os))\n",
      "C:\\Users\\Student\\Desktop\\potential_task\\levitt_model\\potential.py:154: VisibleDeprecationWarning: Creating an ndarray from ragged nested sequences (which is a list-or-tuple of lists-or-tuples-or ndarrays with different lengths or shapes) is deprecated. If you meant to do this, you must specify 'dtype=object' when creating the ndarray.\n",
      "  _, Rs, Nss, Oss = _np.array(self._model.dihedralsToCoords(alphas, self._dist_ns_os))\n",
      "C:\\Users\\Student\\Desktop\\potential_task\\levitt_model\\potential.py:317: VisibleDeprecationWarning: Creating an ndarray from ragged nested sequences (which is a list-or-tuple of lists-or-tuples-or ndarrays with different lengths or shapes) is deprecated. If you meant to do this, you must specify 'dtype=object' when creating the ndarray.\n",
      "  Cas, Rs, Nss, Oss = _np.array(self._model.dihedralsToCoords(alphas, self._dist_ns_os))\n",
      "C:\\Users\\Student\\Desktop\\potential_task\\levitt_model\\potential.py:154: VisibleDeprecationWarning: Creating an ndarray from ragged nested sequences (which is a list-or-tuple of lists-or-tuples-or ndarrays with different lengths or shapes) is deprecated. If you meant to do this, you must specify 'dtype=object' when creating the ndarray.\n",
      "  _, Rs, Nss, Oss = _np.array(self._model.dihedralsToCoords(alphas, self._dist_ns_os))\n",
      "C:\\Users\\Student\\Desktop\\potential_task\\levitt_model\\potential.py:317: VisibleDeprecationWarning: Creating an ndarray from ragged nested sequences (which is a list-or-tuple of lists-or-tuples-or ndarrays with different lengths or shapes) is deprecated. If you meant to do this, you must specify 'dtype=object' when creating the ndarray.\n",
      "  Cas, Rs, Nss, Oss = _np.array(self._model.dihedralsToCoords(alphas, self._dist_ns_os))\n",
      "C:\\Users\\Student\\Desktop\\potential_task\\levitt_model\\potential.py:154: VisibleDeprecationWarning: Creating an ndarray from ragged nested sequences (which is a list-or-tuple of lists-or-tuples-or ndarrays with different lengths or shapes) is deprecated. If you meant to do this, you must specify 'dtype=object' when creating the ndarray.\n",
      "  _, Rs, Nss, Oss = _np.array(self._model.dihedralsToCoords(alphas, self._dist_ns_os))\n",
      "C:\\Users\\Student\\Desktop\\potential_task\\levitt_model\\potential.py:317: VisibleDeprecationWarning: Creating an ndarray from ragged nested sequences (which is a list-or-tuple of lists-or-tuples-or ndarrays with different lengths or shapes) is deprecated. If you meant to do this, you must specify 'dtype=object' when creating the ndarray.\n",
      "  Cas, Rs, Nss, Oss = _np.array(self._model.dihedralsToCoords(alphas, self._dist_ns_os))\n",
      "C:\\Users\\Student\\Desktop\\potential_task\\levitt_model\\potential.py:154: VisibleDeprecationWarning: Creating an ndarray from ragged nested sequences (which is a list-or-tuple of lists-or-tuples-or ndarrays with different lengths or shapes) is deprecated. If you meant to do this, you must specify 'dtype=object' when creating the ndarray.\n",
      "  _, Rs, Nss, Oss = _np.array(self._model.dihedralsToCoords(alphas, self._dist_ns_os))\n",
      "C:\\Users\\Student\\Desktop\\potential_task\\levitt_model\\potential.py:317: VisibleDeprecationWarning: Creating an ndarray from ragged nested sequences (which is a list-or-tuple of lists-or-tuples-or ndarrays with different lengths or shapes) is deprecated. If you meant to do this, you must specify 'dtype=object' when creating the ndarray.\n",
      "  Cas, Rs, Nss, Oss = _np.array(self._model.dihedralsToCoords(alphas, self._dist_ns_os))\n",
      "C:\\Users\\Student\\Desktop\\potential_task\\levitt_model\\potential.py:154: VisibleDeprecationWarning: Creating an ndarray from ragged nested sequences (which is a list-or-tuple of lists-or-tuples-or ndarrays with different lengths or shapes) is deprecated. If you meant to do this, you must specify 'dtype=object' when creating the ndarray.\n",
      "  _, Rs, Nss, Oss = _np.array(self._model.dihedralsToCoords(alphas, self._dist_ns_os))\n",
      "C:\\Users\\Student\\Desktop\\potential_task\\levitt_model\\potential.py:317: VisibleDeprecationWarning: Creating an ndarray from ragged nested sequences (which is a list-or-tuple of lists-or-tuples-or ndarrays with different lengths or shapes) is deprecated. If you meant to do this, you must specify 'dtype=object' when creating the ndarray.\n",
      "  Cas, Rs, Nss, Oss = _np.array(self._model.dihedralsToCoords(alphas, self._dist_ns_os))\n",
      "C:\\Users\\Student\\Desktop\\potential_task\\levitt_model\\potential.py:154: VisibleDeprecationWarning: Creating an ndarray from ragged nested sequences (which is a list-or-tuple of lists-or-tuples-or ndarrays with different lengths or shapes) is deprecated. If you meant to do this, you must specify 'dtype=object' when creating the ndarray.\n",
      "  _, Rs, Nss, Oss = _np.array(self._model.dihedralsToCoords(alphas, self._dist_ns_os))\n",
      "C:\\Users\\Student\\Desktop\\potential_task\\levitt_model\\potential.py:317: VisibleDeprecationWarning: Creating an ndarray from ragged nested sequences (which is a list-or-tuple of lists-or-tuples-or ndarrays with different lengths or shapes) is deprecated. If you meant to do this, you must specify 'dtype=object' when creating the ndarray.\n",
      "  Cas, Rs, Nss, Oss = _np.array(self._model.dihedralsToCoords(alphas, self._dist_ns_os))\n",
      "C:\\Users\\Student\\Desktop\\potential_task\\levitt_model\\potential.py:154: VisibleDeprecationWarning: Creating an ndarray from ragged nested sequences (which is a list-or-tuple of lists-or-tuples-or ndarrays with different lengths or shapes) is deprecated. If you meant to do this, you must specify 'dtype=object' when creating the ndarray.\n",
      "  _, Rs, Nss, Oss = _np.array(self._model.dihedralsToCoords(alphas, self._dist_ns_os))\n",
      "C:\\Users\\Student\\Desktop\\potential_task\\levitt_model\\potential.py:317: VisibleDeprecationWarning: Creating an ndarray from ragged nested sequences (which is a list-or-tuple of lists-or-tuples-or ndarrays with different lengths or shapes) is deprecated. If you meant to do this, you must specify 'dtype=object' when creating the ndarray.\n",
      "  Cas, Rs, Nss, Oss = _np.array(self._model.dihedralsToCoords(alphas, self._dist_ns_os))\n",
      "C:\\Users\\Student\\Desktop\\potential_task\\levitt_model\\potential.py:154: VisibleDeprecationWarning: Creating an ndarray from ragged nested sequences (which is a list-or-tuple of lists-or-tuples-or ndarrays with different lengths or shapes) is deprecated. If you meant to do this, you must specify 'dtype=object' when creating the ndarray.\n",
      "  _, Rs, Nss, Oss = _np.array(self._model.dihedralsToCoords(alphas, self._dist_ns_os))\n",
      "C:\\Users\\Student\\Desktop\\potential_task\\levitt_model\\potential.py:317: VisibleDeprecationWarning: Creating an ndarray from ragged nested sequences (which is a list-or-tuple of lists-or-tuples-or ndarrays with different lengths or shapes) is deprecated. If you meant to do this, you must specify 'dtype=object' when creating the ndarray.\n",
      "  Cas, Rs, Nss, Oss = _np.array(self._model.dihedralsToCoords(alphas, self._dist_ns_os))\n",
      "C:\\Users\\Student\\Desktop\\potential_task\\levitt_model\\potential.py:154: VisibleDeprecationWarning: Creating an ndarray from ragged nested sequences (which is a list-or-tuple of lists-or-tuples-or ndarrays with different lengths or shapes) is deprecated. If you meant to do this, you must specify 'dtype=object' when creating the ndarray.\n",
      "  _, Rs, Nss, Oss = _np.array(self._model.dihedralsToCoords(alphas, self._dist_ns_os))\n",
      "C:\\Users\\Student\\Desktop\\potential_task\\levitt_model\\potential.py:317: VisibleDeprecationWarning: Creating an ndarray from ragged nested sequences (which is a list-or-tuple of lists-or-tuples-or ndarrays with different lengths or shapes) is deprecated. If you meant to do this, you must specify 'dtype=object' when creating the ndarray.\n",
      "  Cas, Rs, Nss, Oss = _np.array(self._model.dihedralsToCoords(alphas, self._dist_ns_os))\n",
      "C:\\Users\\Student\\Desktop\\potential_task\\levitt_model\\potential.py:154: VisibleDeprecationWarning: Creating an ndarray from ragged nested sequences (which is a list-or-tuple of lists-or-tuples-or ndarrays with different lengths or shapes) is deprecated. If you meant to do this, you must specify 'dtype=object' when creating the ndarray.\n",
      "  _, Rs, Nss, Oss = _np.array(self._model.dihedralsToCoords(alphas, self._dist_ns_os))\n",
      "C:\\Users\\Student\\Desktop\\potential_task\\levitt_model\\potential.py:317: VisibleDeprecationWarning: Creating an ndarray from ragged nested sequences (which is a list-or-tuple of lists-or-tuples-or ndarrays with different lengths or shapes) is deprecated. If you meant to do this, you must specify 'dtype=object' when creating the ndarray.\n",
      "  Cas, Rs, Nss, Oss = _np.array(self._model.dihedralsToCoords(alphas, self._dist_ns_os))\n",
      "C:\\Users\\Student\\Desktop\\potential_task\\levitt_model\\potential.py:154: VisibleDeprecationWarning: Creating an ndarray from ragged nested sequences (which is a list-or-tuple of lists-or-tuples-or ndarrays with different lengths or shapes) is deprecated. If you meant to do this, you must specify 'dtype=object' when creating the ndarray.\n",
      "  _, Rs, Nss, Oss = _np.array(self._model.dihedralsToCoords(alphas, self._dist_ns_os))\n",
      "C:\\Users\\Student\\Desktop\\potential_task\\levitt_model\\potential.py:317: VisibleDeprecationWarning: Creating an ndarray from ragged nested sequences (which is a list-or-tuple of lists-or-tuples-or ndarrays with different lengths or shapes) is deprecated. If you meant to do this, you must specify 'dtype=object' when creating the ndarray.\n",
      "  Cas, Rs, Nss, Oss = _np.array(self._model.dihedralsToCoords(alphas, self._dist_ns_os))\n",
      "C:\\Users\\Student\\Desktop\\potential_task\\levitt_model\\potential.py:154: VisibleDeprecationWarning: Creating an ndarray from ragged nested sequences (which is a list-or-tuple of lists-or-tuples-or ndarrays with different lengths or shapes) is deprecated. If you meant to do this, you must specify 'dtype=object' when creating the ndarray.\n",
      "  _, Rs, Nss, Oss = _np.array(self._model.dihedralsToCoords(alphas, self._dist_ns_os))\n",
      "C:\\Users\\Student\\Desktop\\potential_task\\levitt_model\\potential.py:317: VisibleDeprecationWarning: Creating an ndarray from ragged nested sequences (which is a list-or-tuple of lists-or-tuples-or ndarrays with different lengths or shapes) is deprecated. If you meant to do this, you must specify 'dtype=object' when creating the ndarray.\n",
      "  Cas, Rs, Nss, Oss = _np.array(self._model.dihedralsToCoords(alphas, self._dist_ns_os))\n",
      "C:\\Users\\Student\\Desktop\\potential_task\\levitt_model\\potential.py:154: VisibleDeprecationWarning: Creating an ndarray from ragged nested sequences (which is a list-or-tuple of lists-or-tuples-or ndarrays with different lengths or shapes) is deprecated. If you meant to do this, you must specify 'dtype=object' when creating the ndarray.\n",
      "  _, Rs, Nss, Oss = _np.array(self._model.dihedralsToCoords(alphas, self._dist_ns_os))\n",
      "C:\\Users\\Student\\Desktop\\potential_task\\levitt_model\\potential.py:317: VisibleDeprecationWarning: Creating an ndarray from ragged nested sequences (which is a list-or-tuple of lists-or-tuples-or ndarrays with different lengths or shapes) is deprecated. If you meant to do this, you must specify 'dtype=object' when creating the ndarray.\n",
      "  Cas, Rs, Nss, Oss = _np.array(self._model.dihedralsToCoords(alphas, self._dist_ns_os))\n",
      "C:\\Users\\Student\\Desktop\\potential_task\\levitt_model\\potential.py:154: VisibleDeprecationWarning: Creating an ndarray from ragged nested sequences (which is a list-or-tuple of lists-or-tuples-or ndarrays with different lengths or shapes) is deprecated. If you meant to do this, you must specify 'dtype=object' when creating the ndarray.\n",
      "  _, Rs, Nss, Oss = _np.array(self._model.dihedralsToCoords(alphas, self._dist_ns_os))\n",
      "C:\\Users\\Student\\Desktop\\potential_task\\levitt_model\\potential.py:317: VisibleDeprecationWarning: Creating an ndarray from ragged nested sequences (which is a list-or-tuple of lists-or-tuples-or ndarrays with different lengths or shapes) is deprecated. If you meant to do this, you must specify 'dtype=object' when creating the ndarray.\n",
      "  Cas, Rs, Nss, Oss = _np.array(self._model.dihedralsToCoords(alphas, self._dist_ns_os))\n",
      "C:\\Users\\Student\\Desktop\\potential_task\\levitt_model\\potential.py:154: VisibleDeprecationWarning: Creating an ndarray from ragged nested sequences (which is a list-or-tuple of lists-or-tuples-or ndarrays with different lengths or shapes) is deprecated. If you meant to do this, you must specify 'dtype=object' when creating the ndarray.\n",
      "  _, Rs, Nss, Oss = _np.array(self._model.dihedralsToCoords(alphas, self._dist_ns_os))\n",
      "C:\\Users\\Student\\Desktop\\potential_task\\levitt_model\\potential.py:317: VisibleDeprecationWarning: Creating an ndarray from ragged nested sequences (which is a list-or-tuple of lists-or-tuples-or ndarrays with different lengths or shapes) is deprecated. If you meant to do this, you must specify 'dtype=object' when creating the ndarray.\n",
      "  Cas, Rs, Nss, Oss = _np.array(self._model.dihedralsToCoords(alphas, self._dist_ns_os))\n",
      "C:\\Users\\Student\\Desktop\\potential_task\\levitt_model\\potential.py:154: VisibleDeprecationWarning: Creating an ndarray from ragged nested sequences (which is a list-or-tuple of lists-or-tuples-or ndarrays with different lengths or shapes) is deprecated. If you meant to do this, you must specify 'dtype=object' when creating the ndarray.\n",
      "  _, Rs, Nss, Oss = _np.array(self._model.dihedralsToCoords(alphas, self._dist_ns_os))\n",
      "C:\\Users\\Student\\Desktop\\potential_task\\levitt_model\\potential.py:317: VisibleDeprecationWarning: Creating an ndarray from ragged nested sequences (which is a list-or-tuple of lists-or-tuples-or ndarrays with different lengths or shapes) is deprecated. If you meant to do this, you must specify 'dtype=object' when creating the ndarray.\n",
      "  Cas, Rs, Nss, Oss = _np.array(self._model.dihedralsToCoords(alphas, self._dist_ns_os))\n",
      "C:\\Users\\Student\\Desktop\\potential_task\\levitt_model\\potential.py:154: VisibleDeprecationWarning: Creating an ndarray from ragged nested sequences (which is a list-or-tuple of lists-or-tuples-or ndarrays with different lengths or shapes) is deprecated. If you meant to do this, you must specify 'dtype=object' when creating the ndarray.\n",
      "  _, Rs, Nss, Oss = _np.array(self._model.dihedralsToCoords(alphas, self._dist_ns_os))\n",
      "C:\\Users\\Student\\Desktop\\potential_task\\levitt_model\\potential.py:317: VisibleDeprecationWarning: Creating an ndarray from ragged nested sequences (which is a list-or-tuple of lists-or-tuples-or ndarrays with different lengths or shapes) is deprecated. If you meant to do this, you must specify 'dtype=object' when creating the ndarray.\n",
      "  Cas, Rs, Nss, Oss = _np.array(self._model.dihedralsToCoords(alphas, self._dist_ns_os))\n",
      "C:\\Users\\Student\\Desktop\\potential_task\\levitt_model\\potential.py:154: VisibleDeprecationWarning: Creating an ndarray from ragged nested sequences (which is a list-or-tuple of lists-or-tuples-or ndarrays with different lengths or shapes) is deprecated. If you meant to do this, you must specify 'dtype=object' when creating the ndarray.\n",
      "  _, Rs, Nss, Oss = _np.array(self._model.dihedralsToCoords(alphas, self._dist_ns_os))\n",
      "C:\\Users\\Student\\Desktop\\potential_task\\levitt_model\\potential.py:317: VisibleDeprecationWarning: Creating an ndarray from ragged nested sequences (which is a list-or-tuple of lists-or-tuples-or ndarrays with different lengths or shapes) is deprecated. If you meant to do this, you must specify 'dtype=object' when creating the ndarray.\n",
      "  Cas, Rs, Nss, Oss = _np.array(self._model.dihedralsToCoords(alphas, self._dist_ns_os))\n",
      "C:\\Users\\Student\\Desktop\\potential_task\\levitt_model\\potential.py:154: VisibleDeprecationWarning: Creating an ndarray from ragged nested sequences (which is a list-or-tuple of lists-or-tuples-or ndarrays with different lengths or shapes) is deprecated. If you meant to do this, you must specify 'dtype=object' when creating the ndarray.\n",
      "  _, Rs, Nss, Oss = _np.array(self._model.dihedralsToCoords(alphas, self._dist_ns_os))\n",
      "C:\\Users\\Student\\Desktop\\potential_task\\levitt_model\\potential.py:317: VisibleDeprecationWarning: Creating an ndarray from ragged nested sequences (which is a list-or-tuple of lists-or-tuples-or ndarrays with different lengths or shapes) is deprecated. If you meant to do this, you must specify 'dtype=object' when creating the ndarray.\n",
      "  Cas, Rs, Nss, Oss = _np.array(self._model.dihedralsToCoords(alphas, self._dist_ns_os))\n",
      "C:\\Users\\Student\\Desktop\\potential_task\\levitt_model\\potential.py:154: VisibleDeprecationWarning: Creating an ndarray from ragged nested sequences (which is a list-or-tuple of lists-or-tuples-or ndarrays with different lengths or shapes) is deprecated. If you meant to do this, you must specify 'dtype=object' when creating the ndarray.\n",
      "  _, Rs, Nss, Oss = _np.array(self._model.dihedralsToCoords(alphas, self._dist_ns_os))\n",
      "C:\\Users\\Student\\Desktop\\potential_task\\levitt_model\\potential.py:317: VisibleDeprecationWarning: Creating an ndarray from ragged nested sequences (which is a list-or-tuple of lists-or-tuples-or ndarrays with different lengths or shapes) is deprecated. If you meant to do this, you must specify 'dtype=object' when creating the ndarray.\n",
      "  Cas, Rs, Nss, Oss = _np.array(self._model.dihedralsToCoords(alphas, self._dist_ns_os))\n",
      "C:\\Users\\Student\\Desktop\\potential_task\\levitt_model\\potential.py:154: VisibleDeprecationWarning: Creating an ndarray from ragged nested sequences (which is a list-or-tuple of lists-or-tuples-or ndarrays with different lengths or shapes) is deprecated. If you meant to do this, you must specify 'dtype=object' when creating the ndarray.\n",
      "  _, Rs, Nss, Oss = _np.array(self._model.dihedralsToCoords(alphas, self._dist_ns_os))\n",
      "C:\\Users\\Student\\Desktop\\potential_task\\levitt_model\\potential.py:317: VisibleDeprecationWarning: Creating an ndarray from ragged nested sequences (which is a list-or-tuple of lists-or-tuples-or ndarrays with different lengths or shapes) is deprecated. If you meant to do this, you must specify 'dtype=object' when creating the ndarray.\n",
      "  Cas, Rs, Nss, Oss = _np.array(self._model.dihedralsToCoords(alphas, self._dist_ns_os))\n",
      "C:\\Users\\Student\\Desktop\\potential_task\\levitt_model\\potential.py:154: VisibleDeprecationWarning: Creating an ndarray from ragged nested sequences (which is a list-or-tuple of lists-or-tuples-or ndarrays with different lengths or shapes) is deprecated. If you meant to do this, you must specify 'dtype=object' when creating the ndarray.\n",
      "  _, Rs, Nss, Oss = _np.array(self._model.dihedralsToCoords(alphas, self._dist_ns_os))\n",
      "C:\\Users\\Student\\Desktop\\potential_task\\levitt_model\\potential.py:317: VisibleDeprecationWarning: Creating an ndarray from ragged nested sequences (which is a list-or-tuple of lists-or-tuples-or ndarrays with different lengths or shapes) is deprecated. If you meant to do this, you must specify 'dtype=object' when creating the ndarray.\n",
      "  Cas, Rs, Nss, Oss = _np.array(self._model.dihedralsToCoords(alphas, self._dist_ns_os))\n",
      "C:\\Users\\Student\\Desktop\\potential_task\\levitt_model\\potential.py:154: VisibleDeprecationWarning: Creating an ndarray from ragged nested sequences (which is a list-or-tuple of lists-or-tuples-or ndarrays with different lengths or shapes) is deprecated. If you meant to do this, you must specify 'dtype=object' when creating the ndarray.\n",
      "  _, Rs, Nss, Oss = _np.array(self._model.dihedralsToCoords(alphas, self._dist_ns_os))\n",
      "C:\\Users\\Student\\Desktop\\potential_task\\levitt_model\\potential.py:317: VisibleDeprecationWarning: Creating an ndarray from ragged nested sequences (which is a list-or-tuple of lists-or-tuples-or ndarrays with different lengths or shapes) is deprecated. If you meant to do this, you must specify 'dtype=object' when creating the ndarray.\n",
      "  Cas, Rs, Nss, Oss = _np.array(self._model.dihedralsToCoords(alphas, self._dist_ns_os))\n",
      "C:\\Users\\Student\\Desktop\\potential_task\\levitt_model\\potential.py:154: VisibleDeprecationWarning: Creating an ndarray from ragged nested sequences (which is a list-or-tuple of lists-or-tuples-or ndarrays with different lengths or shapes) is deprecated. If you meant to do this, you must specify 'dtype=object' when creating the ndarray.\n",
      "  _, Rs, Nss, Oss = _np.array(self._model.dihedralsToCoords(alphas, self._dist_ns_os))\n",
      "C:\\Users\\Student\\Desktop\\potential_task\\levitt_model\\potential.py:317: VisibleDeprecationWarning: Creating an ndarray from ragged nested sequences (which is a list-or-tuple of lists-or-tuples-or ndarrays with different lengths or shapes) is deprecated. If you meant to do this, you must specify 'dtype=object' when creating the ndarray.\n",
      "  Cas, Rs, Nss, Oss = _np.array(self._model.dihedralsToCoords(alphas, self._dist_ns_os))\n",
      "C:\\Users\\Student\\Desktop\\potential_task\\levitt_model\\potential.py:154: VisibleDeprecationWarning: Creating an ndarray from ragged nested sequences (which is a list-or-tuple of lists-or-tuples-or ndarrays with different lengths or shapes) is deprecated. If you meant to do this, you must specify 'dtype=object' when creating the ndarray.\n",
      "  _, Rs, Nss, Oss = _np.array(self._model.dihedralsToCoords(alphas, self._dist_ns_os))\n",
      "C:\\Users\\Student\\Desktop\\potential_task\\levitt_model\\potential.py:317: VisibleDeprecationWarning: Creating an ndarray from ragged nested sequences (which is a list-or-tuple of lists-or-tuples-or ndarrays with different lengths or shapes) is deprecated. If you meant to do this, you must specify 'dtype=object' when creating the ndarray.\n",
      "  Cas, Rs, Nss, Oss = _np.array(self._model.dihedralsToCoords(alphas, self._dist_ns_os))\n",
      "C:\\Users\\Student\\Desktop\\potential_task\\levitt_model\\potential.py:154: VisibleDeprecationWarning: Creating an ndarray from ragged nested sequences (which is a list-or-tuple of lists-or-tuples-or ndarrays with different lengths or shapes) is deprecated. If you meant to do this, you must specify 'dtype=object' when creating the ndarray.\n",
      "  _, Rs, Nss, Oss = _np.array(self._model.dihedralsToCoords(alphas, self._dist_ns_os))\n",
      "C:\\Users\\Student\\Desktop\\potential_task\\levitt_model\\potential.py:317: VisibleDeprecationWarning: Creating an ndarray from ragged nested sequences (which is a list-or-tuple of lists-or-tuples-or ndarrays with different lengths or shapes) is deprecated. If you meant to do this, you must specify 'dtype=object' when creating the ndarray.\n",
      "  Cas, Rs, Nss, Oss = _np.array(self._model.dihedralsToCoords(alphas, self._dist_ns_os))\n",
      "C:\\Users\\Student\\Desktop\\potential_task\\levitt_model\\potential.py:154: VisibleDeprecationWarning: Creating an ndarray from ragged nested sequences (which is a list-or-tuple of lists-or-tuples-or ndarrays with different lengths or shapes) is deprecated. If you meant to do this, you must specify 'dtype=object' when creating the ndarray.\n",
      "  _, Rs, Nss, Oss = _np.array(self._model.dihedralsToCoords(alphas, self._dist_ns_os))\n",
      "C:\\Users\\Student\\Desktop\\potential_task\\levitt_model\\potential.py:317: VisibleDeprecationWarning: Creating an ndarray from ragged nested sequences (which is a list-or-tuple of lists-or-tuples-or ndarrays with different lengths or shapes) is deprecated. If you meant to do this, you must specify 'dtype=object' when creating the ndarray.\n",
      "  Cas, Rs, Nss, Oss = _np.array(self._model.dihedralsToCoords(alphas, self._dist_ns_os))\n",
      "C:\\Users\\Student\\Desktop\\potential_task\\levitt_model\\potential.py:154: VisibleDeprecationWarning: Creating an ndarray from ragged nested sequences (which is a list-or-tuple of lists-or-tuples-or ndarrays with different lengths or shapes) is deprecated. If you meant to do this, you must specify 'dtype=object' when creating the ndarray.\n",
      "  _, Rs, Nss, Oss = _np.array(self._model.dihedralsToCoords(alphas, self._dist_ns_os))\n",
      "C:\\Users\\Student\\Desktop\\potential_task\\levitt_model\\potential.py:317: VisibleDeprecationWarning: Creating an ndarray from ragged nested sequences (which is a list-or-tuple of lists-or-tuples-or ndarrays with different lengths or shapes) is deprecated. If you meant to do this, you must specify 'dtype=object' when creating the ndarray.\n",
      "  Cas, Rs, Nss, Oss = _np.array(self._model.dihedralsToCoords(alphas, self._dist_ns_os))\n",
      "C:\\Users\\Student\\Desktop\\potential_task\\levitt_model\\potential.py:154: VisibleDeprecationWarning: Creating an ndarray from ragged nested sequences (which is a list-or-tuple of lists-or-tuples-or ndarrays with different lengths or shapes) is deprecated. If you meant to do this, you must specify 'dtype=object' when creating the ndarray.\n",
      "  _, Rs, Nss, Oss = _np.array(self._model.dihedralsToCoords(alphas, self._dist_ns_os))\n",
      "C:\\Users\\Student\\Desktop\\potential_task\\levitt_model\\potential.py:317: VisibleDeprecationWarning: Creating an ndarray from ragged nested sequences (which is a list-or-tuple of lists-or-tuples-or ndarrays with different lengths or shapes) is deprecated. If you meant to do this, you must specify 'dtype=object' when creating the ndarray.\n",
      "  Cas, Rs, Nss, Oss = _np.array(self._model.dihedralsToCoords(alphas, self._dist_ns_os))\n",
      "C:\\Users\\Student\\Desktop\\potential_task\\levitt_model\\potential.py:154: VisibleDeprecationWarning: Creating an ndarray from ragged nested sequences (which is a list-or-tuple of lists-or-tuples-or ndarrays with different lengths or shapes) is deprecated. If you meant to do this, you must specify 'dtype=object' when creating the ndarray.\n",
      "  _, Rs, Nss, Oss = _np.array(self._model.dihedralsToCoords(alphas, self._dist_ns_os))\n",
      "C:\\Users\\Student\\Desktop\\potential_task\\levitt_model\\potential.py:317: VisibleDeprecationWarning: Creating an ndarray from ragged nested sequences (which is a list-or-tuple of lists-or-tuples-or ndarrays with different lengths or shapes) is deprecated. If you meant to do this, you must specify 'dtype=object' when creating the ndarray.\n",
      "  Cas, Rs, Nss, Oss = _np.array(self._model.dihedralsToCoords(alphas, self._dist_ns_os))\n",
      "C:\\Users\\Student\\Desktop\\potential_task\\levitt_model\\potential.py:154: VisibleDeprecationWarning: Creating an ndarray from ragged nested sequences (which is a list-or-tuple of lists-or-tuples-or ndarrays with different lengths or shapes) is deprecated. If you meant to do this, you must specify 'dtype=object' when creating the ndarray.\n",
      "  _, Rs, Nss, Oss = _np.array(self._model.dihedralsToCoords(alphas, self._dist_ns_os))\n",
      "C:\\Users\\Student\\Desktop\\potential_task\\levitt_model\\potential.py:317: VisibleDeprecationWarning: Creating an ndarray from ragged nested sequences (which is a list-or-tuple of lists-or-tuples-or ndarrays with different lengths or shapes) is deprecated. If you meant to do this, you must specify 'dtype=object' when creating the ndarray.\n",
      "  Cas, Rs, Nss, Oss = _np.array(self._model.dihedralsToCoords(alphas, self._dist_ns_os))\n",
      "C:\\Users\\Student\\Desktop\\potential_task\\levitt_model\\potential.py:154: VisibleDeprecationWarning: Creating an ndarray from ragged nested sequences (which is a list-or-tuple of lists-or-tuples-or ndarrays with different lengths or shapes) is deprecated. If you meant to do this, you must specify 'dtype=object' when creating the ndarray.\n",
      "  _, Rs, Nss, Oss = _np.array(self._model.dihedralsToCoords(alphas, self._dist_ns_os))\n",
      "C:\\Users\\Student\\Desktop\\potential_task\\levitt_model\\potential.py:317: VisibleDeprecationWarning: Creating an ndarray from ragged nested sequences (which is a list-or-tuple of lists-or-tuples-or ndarrays with different lengths or shapes) is deprecated. If you meant to do this, you must specify 'dtype=object' when creating the ndarray.\n",
      "  Cas, Rs, Nss, Oss = _np.array(self._model.dihedralsToCoords(alphas, self._dist_ns_os))\n"
     ]
    },
    {
     "data": {
      "text/plain": [
       "      fun: 53.56946341207158\n",
       " hess_inv: <25x25 LbfgsInvHessProduct with dtype=float64>\n",
       "      jac: array([-36.08863942,   1.18396882, -35.28622006,   0.38154946,\n",
       "       -34.48380071,  -0.4208699 , -33.68138135,  -1.22328925,\n",
       "       -32.87896199,  -2.02570861, -32.07654263,  -2.82812797,\n",
       "       -31.27412327,  -3.63054733, -30.47170392,  -4.43296669,\n",
       "       -29.66928456,  -5.23538604, -28.8668652 ,  -6.0378054 ,\n",
       "       -28.06444584,  -6.84022476, -27.26202648,  -7.64264412,\n",
       "       -26.45960713])\n",
       "  message: 'ABNORMAL_TERMINATION_IN_LNSRCH'\n",
       "     nfev: 42\n",
       "      nit: 1\n",
       "     njev: 42\n",
       "   status: 2\n",
       "  success: False\n",
       "        x: array([ 3.14159265,  3.14159265,  3.14159265,  3.14159265,  3.14159265,\n",
       "        3.14159265,  3.14159265,  3.14159265,  3.14159265,  3.14159265,\n",
       "        3.14159265,  3.14159265,  3.14159265, -3.14159265, -3.14159265,\n",
       "        3.14159265, -3.14159265, -3.14159265,  3.14159265, -3.14159265,\n",
       "       -3.14159265,  3.14159265, -3.14159265, -3.14159265, -3.14159265])"
      ]
     },
     "execution_count": 39,
     "metadata": {},
     "output_type": "execute_result"
    }
   ],
   "source": [
    "potential._init_alphas = orig_alphas\n",
    "minimize(potential.calculateEnergyPotential,\n",
    "            method=\"L-BFGS-B\",\n",
    "            jac=potential.calculate_potential_alpha_derivative,\n",
    "            x0=orig_alphas,\n",
    "            bounds=[[-np.pi, np.pi]] * len(orig_alphas))"
   ]
  },
  {
   "cell_type": "code",
   "execution_count": null,
   "metadata": {},
   "outputs": [],
   "source": []
  }
 ],
 "metadata": {
  "kernelspec": {
   "display_name": "Python 3 (ipykernel)",
   "language": "python",
   "name": "python3"
  },
  "language_info": {
   "codemirror_mode": {
    "name": "ipython",
    "version": 3
   },
   "file_extension": ".py",
   "mimetype": "text/x-python",
   "name": "python",
   "nbconvert_exporter": "python",
   "pygments_lexer": "ipython3",
   "version": "3.9.13"
  }
 },
 "nbformat": 4,
 "nbformat_minor": 4
}
