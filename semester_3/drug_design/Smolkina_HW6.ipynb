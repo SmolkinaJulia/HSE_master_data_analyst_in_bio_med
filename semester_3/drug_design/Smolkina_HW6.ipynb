{
 "cells": [
  {
   "cell_type": "markdown",
   "id": "a79e7201",
   "metadata": {},
   "source": [
    "# HW 6\n",
    "# Smolkina Julia"
   ]
  },
  {
   "cell_type": "markdown",
   "id": "4dc2b3cc",
   "metadata": {},
   "source": [
    "Традиционные ссылки на полезные ресурсы:\n",
    "\n",
    "Уроки по работе с Modeller находятся здесь.\n",
    "Цель данного занятия ознакомится с возможностями гомологичного моделирования комплекса белка с лигандом. В этом занятии мы будем пользоваться пакетом Modeller. Это программное обеспечение распространяется бесплатно для академических пользователей.\n",
    "\n",
    "Вы будете работать с любым белком лизоцимом из Uniprot. Используя известную структуру лизоцима форели как образец, Вам необходимо построить модель комплекса Вашего белка с лигандом."
   ]
  },
  {
   "cell_type": "code",
   "execution_count": 2,
   "id": "6a74edd8",
   "metadata": {},
   "outputs": [
    {
     "name": "stdout",
     "output_type": "stream",
     "text": [
      "Collecting modeller\n",
      "  Downloading modeller-0.1.1-py3-none-any.whl (7.6 kB)\n",
      "Requirement already satisfied: fastjsonschema in /Users/mac-julia/opt/anaconda3/lib/python3.9/site-packages (from modeller) (2.16.2)\n",
      "Installing collected packages: modeller\n",
      "Successfully installed modeller-0.1.1\n"
     ]
    }
   ],
   "source": [
    "!pip install modeller "
   ]
  },
  {
   "cell_type": "code",
   "execution_count": 9,
   "id": "34406baf",
   "metadata": {},
   "outputs": [
    {
     "name": "stdout",
     "output_type": "stream",
     "text": [
      "Collecting nglview\n",
      "  Downloading nglview-3.0.3.tar.gz (5.7 MB)\n",
      "\u001b[2K     \u001b[90m━━━━━━━━━━━━━━━━━━━━━━━━━━━━━━━━━━━━━━━━\u001b[0m \u001b[32m5.7/5.7 MB\u001b[0m \u001b[31m9.0 MB/s\u001b[0m eta \u001b[36m0:00:00\u001b[0m00:01\u001b[0m00:01\u001b[0m\n",
      "\u001b[?25h  Installing build dependencies ... \u001b[?25ldone\n",
      "\u001b[?25h  Getting requirements to build wheel ... \u001b[?25ldone\n",
      "\u001b[?25h  Preparing metadata (pyproject.toml) ... \u001b[?25ldone\n",
      "\u001b[?25hRequirement already satisfied: jupyterlab-widgets in /Users/mac-julia/opt/anaconda3/lib/python3.9/site-packages (from nglview) (1.0.0)\n",
      "Requirement already satisfied: numpy in /Users/mac-julia/opt/anaconda3/lib/python3.9/site-packages (from nglview) (1.21.5)\n",
      "Requirement already satisfied: ipywidgets>=7 in /Users/mac-julia/opt/anaconda3/lib/python3.9/site-packages (from nglview) (7.6.5)\n",
      "Requirement already satisfied: ipython>=4.0.0 in /Users/mac-julia/opt/anaconda3/lib/python3.9/site-packages (from ipywidgets>=7->nglview) (7.31.1)\n",
      "Requirement already satisfied: ipykernel>=4.5.1 in /Users/mac-julia/opt/anaconda3/lib/python3.9/site-packages (from ipywidgets>=7->nglview) (6.15.2)\n",
      "Requirement already satisfied: widgetsnbextension~=3.5.0 in /Users/mac-julia/opt/anaconda3/lib/python3.9/site-packages (from ipywidgets>=7->nglview) (3.5.2)\n",
      "Requirement already satisfied: nbformat>=4.2.0 in /Users/mac-julia/opt/anaconda3/lib/python3.9/site-packages (from ipywidgets>=7->nglview) (5.5.0)\n",
      "Requirement already satisfied: ipython-genutils~=0.2.0 in /Users/mac-julia/opt/anaconda3/lib/python3.9/site-packages (from ipywidgets>=7->nglview) (0.2.0)\n",
      "Requirement already satisfied: traitlets>=4.3.1 in /Users/mac-julia/opt/anaconda3/lib/python3.9/site-packages (from ipywidgets>=7->nglview) (5.1.1)\n",
      "Requirement already satisfied: matplotlib-inline>=0.1 in /Users/mac-julia/opt/anaconda3/lib/python3.9/site-packages (from ipykernel>=4.5.1->ipywidgets>=7->nglview) (0.1.6)\n",
      "Requirement already satisfied: appnope in /Users/mac-julia/opt/anaconda3/lib/python3.9/site-packages (from ipykernel>=4.5.1->ipywidgets>=7->nglview) (0.1.2)\n",
      "Requirement already satisfied: pyzmq>=17 in /Users/mac-julia/opt/anaconda3/lib/python3.9/site-packages (from ipykernel>=4.5.1->ipywidgets>=7->nglview) (23.2.0)\n",
      "Requirement already satisfied: nest-asyncio in /Users/mac-julia/opt/anaconda3/lib/python3.9/site-packages (from ipykernel>=4.5.1->ipywidgets>=7->nglview) (1.5.5)\n",
      "Requirement already satisfied: jupyter-client>=6.1.12 in /Users/mac-julia/opt/anaconda3/lib/python3.9/site-packages (from ipykernel>=4.5.1->ipywidgets>=7->nglview) (7.3.4)\n",
      "Requirement already satisfied: psutil in /Users/mac-julia/opt/anaconda3/lib/python3.9/site-packages (from ipykernel>=4.5.1->ipywidgets>=7->nglview) (5.9.0)\n",
      "Requirement already satisfied: debugpy>=1.0 in /Users/mac-julia/opt/anaconda3/lib/python3.9/site-packages (from ipykernel>=4.5.1->ipywidgets>=7->nglview) (1.5.1)\n",
      "Requirement already satisfied: tornado>=6.1 in /Users/mac-julia/opt/anaconda3/lib/python3.9/site-packages (from ipykernel>=4.5.1->ipywidgets>=7->nglview) (6.1)\n",
      "Requirement already satisfied: packaging in /Users/mac-julia/opt/anaconda3/lib/python3.9/site-packages (from ipykernel>=4.5.1->ipywidgets>=7->nglview) (21.3)\n",
      "Requirement already satisfied: jedi>=0.16 in /Users/mac-julia/opt/anaconda3/lib/python3.9/site-packages (from ipython>=4.0.0->ipywidgets>=7->nglview) (0.18.1)\n",
      "Requirement already satisfied: pexpect>4.3 in /Users/mac-julia/opt/anaconda3/lib/python3.9/site-packages (from ipython>=4.0.0->ipywidgets>=7->nglview) (4.8.0)\n",
      "Requirement already satisfied: decorator in /Users/mac-julia/opt/anaconda3/lib/python3.9/site-packages (from ipython>=4.0.0->ipywidgets>=7->nglview) (5.1.1)\n",
      "Requirement already satisfied: setuptools>=18.5 in /Users/mac-julia/opt/anaconda3/lib/python3.9/site-packages (from ipython>=4.0.0->ipywidgets>=7->nglview) (63.4.1)\n",
      "Requirement already satisfied: pygments in /Users/mac-julia/opt/anaconda3/lib/python3.9/site-packages (from ipython>=4.0.0->ipywidgets>=7->nglview) (2.11.2)\n",
      "Requirement already satisfied: pickleshare in /Users/mac-julia/opt/anaconda3/lib/python3.9/site-packages (from ipython>=4.0.0->ipywidgets>=7->nglview) (0.7.5)\n",
      "Requirement already satisfied: backcall in /Users/mac-julia/opt/anaconda3/lib/python3.9/site-packages (from ipython>=4.0.0->ipywidgets>=7->nglview) (0.2.0)\n",
      "Requirement already satisfied: prompt-toolkit!=3.0.0,!=3.0.1,<3.1.0,>=2.0.0 in /Users/mac-julia/opt/anaconda3/lib/python3.9/site-packages (from ipython>=4.0.0->ipywidgets>=7->nglview) (3.0.20)\n",
      "Requirement already satisfied: jupyter_core in /Users/mac-julia/opt/anaconda3/lib/python3.9/site-packages (from nbformat>=4.2.0->ipywidgets>=7->nglview) (4.11.1)\n",
      "Requirement already satisfied: fastjsonschema in /Users/mac-julia/opt/anaconda3/lib/python3.9/site-packages (from nbformat>=4.2.0->ipywidgets>=7->nglview) (2.16.2)\n",
      "Requirement already satisfied: jsonschema>=2.6 in /Users/mac-julia/opt/anaconda3/lib/python3.9/site-packages (from nbformat>=4.2.0->ipywidgets>=7->nglview) (4.16.0)\n",
      "Requirement already satisfied: notebook>=4.4.1 in /Users/mac-julia/opt/anaconda3/lib/python3.9/site-packages (from widgetsnbextension~=3.5.0->ipywidgets>=7->nglview) (6.4.12)\n",
      "Requirement already satisfied: parso<0.9.0,>=0.8.0 in /Users/mac-julia/opt/anaconda3/lib/python3.9/site-packages (from jedi>=0.16->ipython>=4.0.0->ipywidgets>=7->nglview) (0.8.3)\n",
      "Requirement already satisfied: attrs>=17.4.0 in /Users/mac-julia/opt/anaconda3/lib/python3.9/site-packages (from jsonschema>=2.6->nbformat>=4.2.0->ipywidgets>=7->nglview) (21.4.0)\n",
      "Requirement already satisfied: pyrsistent!=0.17.0,!=0.17.1,!=0.17.2,>=0.14.0 in /Users/mac-julia/opt/anaconda3/lib/python3.9/site-packages (from jsonschema>=2.6->nbformat>=4.2.0->ipywidgets>=7->nglview) (0.18.0)\n",
      "Requirement already satisfied: entrypoints in /Users/mac-julia/opt/anaconda3/lib/python3.9/site-packages (from jupyter-client>=6.1.12->ipykernel>=4.5.1->ipywidgets>=7->nglview) (0.4)\n",
      "Requirement already satisfied: python-dateutil>=2.8.2 in /Users/mac-julia/opt/anaconda3/lib/python3.9/site-packages (from jupyter-client>=6.1.12->ipykernel>=4.5.1->ipywidgets>=7->nglview) (2.8.2)\n",
      "Requirement already satisfied: prometheus-client in /Users/mac-julia/opt/anaconda3/lib/python3.9/site-packages (from notebook>=4.4.1->widgetsnbextension~=3.5.0->ipywidgets>=7->nglview) (0.14.1)\n",
      "Requirement already satisfied: jinja2 in /Users/mac-julia/opt/anaconda3/lib/python3.9/site-packages (from notebook>=4.4.1->widgetsnbextension~=3.5.0->ipywidgets>=7->nglview) (2.11.3)\n",
      "Requirement already satisfied: nbconvert>=5 in /Users/mac-julia/opt/anaconda3/lib/python3.9/site-packages (from notebook>=4.4.1->widgetsnbextension~=3.5.0->ipywidgets>=7->nglview) (6.4.4)\n",
      "Requirement already satisfied: argon2-cffi in /Users/mac-julia/opt/anaconda3/lib/python3.9/site-packages (from notebook>=4.4.1->widgetsnbextension~=3.5.0->ipywidgets>=7->nglview) (21.3.0)\n",
      "Requirement already satisfied: terminado>=0.8.3 in /Users/mac-julia/opt/anaconda3/lib/python3.9/site-packages (from notebook>=4.4.1->widgetsnbextension~=3.5.0->ipywidgets>=7->nglview) (0.13.1)\n",
      "Requirement already satisfied: Send2Trash>=1.8.0 in /Users/mac-julia/opt/anaconda3/lib/python3.9/site-packages (from notebook>=4.4.1->widgetsnbextension~=3.5.0->ipywidgets>=7->nglview) (1.8.0)\n",
      "Requirement already satisfied: ptyprocess>=0.5 in /Users/mac-julia/opt/anaconda3/lib/python3.9/site-packages (from pexpect>4.3->ipython>=4.0.0->ipywidgets>=7->nglview) (0.7.0)\n",
      "Requirement already satisfied: wcwidth in /Users/mac-julia/opt/anaconda3/lib/python3.9/site-packages (from prompt-toolkit!=3.0.0,!=3.0.1,<3.1.0,>=2.0.0->ipython>=4.0.0->ipywidgets>=7->nglview) (0.2.5)\n",
      "Requirement already satisfied: pyparsing!=3.0.5,>=2.0.2 in /Users/mac-julia/opt/anaconda3/lib/python3.9/site-packages (from packaging->ipykernel>=4.5.1->ipywidgets>=7->nglview) (3.0.9)\n",
      "Requirement already satisfied: mistune<2,>=0.8.1 in /Users/mac-julia/opt/anaconda3/lib/python3.9/site-packages (from nbconvert>=5->notebook>=4.4.1->widgetsnbextension~=3.5.0->ipywidgets>=7->nglview) (0.8.4)\n",
      "Requirement already satisfied: beautifulsoup4 in /Users/mac-julia/opt/anaconda3/lib/python3.9/site-packages (from nbconvert>=5->notebook>=4.4.1->widgetsnbextension~=3.5.0->ipywidgets>=7->nglview) (4.11.1)\n",
      "Requirement already satisfied: nbclient<0.6.0,>=0.5.0 in /Users/mac-julia/opt/anaconda3/lib/python3.9/site-packages (from nbconvert>=5->notebook>=4.4.1->widgetsnbextension~=3.5.0->ipywidgets>=7->nglview) (0.5.13)\n",
      "Requirement already satisfied: testpath in /Users/mac-julia/opt/anaconda3/lib/python3.9/site-packages (from nbconvert>=5->notebook>=4.4.1->widgetsnbextension~=3.5.0->ipywidgets>=7->nglview) (0.6.0)\n",
      "Requirement already satisfied: pandocfilters>=1.4.1 in /Users/mac-julia/opt/anaconda3/lib/python3.9/site-packages (from nbconvert>=5->notebook>=4.4.1->widgetsnbextension~=3.5.0->ipywidgets>=7->nglview) (1.5.0)\n",
      "Requirement already satisfied: defusedxml in /Users/mac-julia/opt/anaconda3/lib/python3.9/site-packages (from nbconvert>=5->notebook>=4.4.1->widgetsnbextension~=3.5.0->ipywidgets>=7->nglview) (0.7.1)\n",
      "Requirement already satisfied: bleach in /Users/mac-julia/opt/anaconda3/lib/python3.9/site-packages (from nbconvert>=5->notebook>=4.4.1->widgetsnbextension~=3.5.0->ipywidgets>=7->nglview) (4.1.0)\n"
     ]
    },
    {
     "name": "stdout",
     "output_type": "stream",
     "text": [
      "Requirement already satisfied: jupyterlab-pygments in /Users/mac-julia/opt/anaconda3/lib/python3.9/site-packages (from nbconvert>=5->notebook>=4.4.1->widgetsnbextension~=3.5.0->ipywidgets>=7->nglview) (0.1.2)\n",
      "Requirement already satisfied: MarkupSafe>=0.23 in /Users/mac-julia/opt/anaconda3/lib/python3.9/site-packages (from jinja2->notebook>=4.4.1->widgetsnbextension~=3.5.0->ipywidgets>=7->nglview) (2.0.1)\n",
      "Requirement already satisfied: six>=1.5 in /Users/mac-julia/opt/anaconda3/lib/python3.9/site-packages (from python-dateutil>=2.8.2->jupyter-client>=6.1.12->ipykernel>=4.5.1->ipywidgets>=7->nglview) (1.16.0)\n",
      "Requirement already satisfied: argon2-cffi-bindings in /Users/mac-julia/opt/anaconda3/lib/python3.9/site-packages (from argon2-cffi->notebook>=4.4.1->widgetsnbextension~=3.5.0->ipywidgets>=7->nglview) (21.2.0)\n",
      "Requirement already satisfied: cffi>=1.0.1 in /Users/mac-julia/opt/anaconda3/lib/python3.9/site-packages (from argon2-cffi-bindings->argon2-cffi->notebook>=4.4.1->widgetsnbextension~=3.5.0->ipywidgets>=7->nglview) (1.15.1)\n",
      "Requirement already satisfied: soupsieve>1.2 in /Users/mac-julia/opt/anaconda3/lib/python3.9/site-packages (from beautifulsoup4->nbconvert>=5->notebook>=4.4.1->widgetsnbextension~=3.5.0->ipywidgets>=7->nglview) (2.3.1)\n",
      "Requirement already satisfied: webencodings in /Users/mac-julia/opt/anaconda3/lib/python3.9/site-packages (from bleach->nbconvert>=5->notebook>=4.4.1->widgetsnbextension~=3.5.0->ipywidgets>=7->nglview) (0.5.1)\n",
      "Requirement already satisfied: pycparser in /Users/mac-julia/opt/anaconda3/lib/python3.9/site-packages (from cffi>=1.0.1->argon2-cffi-bindings->argon2-cffi->notebook>=4.4.1->widgetsnbextension~=3.5.0->ipywidgets>=7->nglview) (2.21)\n",
      "Building wheels for collected packages: nglview\n",
      "  Building wheel for nglview (pyproject.toml) ... \u001b[?25ldone\n",
      "\u001b[?25h  Created wheel for nglview: filename=nglview-3.0.3-py3-none-any.whl size=8057536 sha256=72499879f80f79c664fbbef6fb242da7e41c1a0c3e18dbd39601263ccef00a89\n",
      "  Stored in directory: /Users/mac-julia/Library/Caches/pip/wheels/ed/12/ba/4e227d89934c5d7bdf91387286e45dc868613ab32fa6ce36cf\n",
      "Successfully built nglview\n",
      "Installing collected packages: nglview\n",
      "Successfully installed nglview-3.0.3\n"
     ]
    }
   ],
   "source": [
    "!pip install nglview"
   ]
  },
  {
   "cell_type": "code",
   "execution_count": 25,
   "id": "06547a0b",
   "metadata": {},
   "outputs": [
    {
     "name": "stdout",
     "output_type": "stream",
     "text": [
      "zsh:1: command not found: mamba\r\n"
     ]
    }
   ],
   "source": [
    "! mamba install -c salilab modeller"
   ]
  },
  {
   "cell_type": "code",
   "execution_count": 24,
   "id": "1dfe3531",
   "metadata": {},
   "outputs": [
    {
     "ename": "ModuleNotFoundError",
     "evalue": "No module named 'modeller.automodel'",
     "output_type": "error",
     "traceback": [
      "\u001b[0;31m---------------------------------------------------------------------------\u001b[0m",
      "\u001b[0;31mModuleNotFoundError\u001b[0m                       Traceback (most recent call last)",
      "\u001b[0;32m/var/folders/zn/n2d2qpcj7qb1lmqnh250v_6w0000gn/T/ipykernel_5809/3357770758.py\u001b[0m in \u001b[0;36m<module>\u001b[0;34m\u001b[0m\n\u001b[1;32m      1\u001b[0m \u001b[0;32mfrom\u001b[0m \u001b[0mmodeller\u001b[0m \u001b[0;32mimport\u001b[0m \u001b[0;34m*\u001b[0m\u001b[0;34m\u001b[0m\u001b[0;34m\u001b[0m\u001b[0m\n\u001b[0;32m----> 2\u001b[0;31m \u001b[0;32mfrom\u001b[0m \u001b[0mmodeller\u001b[0m\u001b[0;34m.\u001b[0m\u001b[0mautomodel\u001b[0m \u001b[0;32mimport\u001b[0m \u001b[0;34m*\u001b[0m\u001b[0;34m\u001b[0m\u001b[0;34m\u001b[0m\u001b[0m\n\u001b[0m",
      "\u001b[0;31mModuleNotFoundError\u001b[0m: No module named 'modeller.automodel'"
     ]
    }
   ],
   "source": [
    "from modeller import *\n",
    "from modeller.automodel import * "
   ]
  },
  {
   "cell_type": "code",
   "execution_count": 16,
   "id": "3691143d",
   "metadata": {},
   "outputs": [
    {
     "data": {
      "application/vnd.jupyter.widget-view+json": {
       "model_id": "9ab23ef2cce84d9e85b2a4c5c5d0799c",
       "version_major": 2,
       "version_minor": 0
      },
      "text/plain": []
     },
     "metadata": {},
     "output_type": "display_data"
    }
   ],
   "source": [
    "import sys \n",
    "import modeller \n",
    "#import _modeller\n",
    "#from modeller import automodel\n",
    "import nglview"
   ]
  },
  {
   "cell_type": "code",
   "execution_count": 19,
   "id": "1ed80a3b",
   "metadata": {},
   "outputs": [],
   "source": [
    "import ipywidgets\n",
    "from IPython.display import Image\n",
    "from modeller import *"
   ]
  },
  {
   "cell_type": "code",
   "execution_count": null,
   "id": "05103fe6",
   "metadata": {},
   "outputs": [],
   "source": []
  },
  {
   "cell_type": "code",
   "execution_count": 20,
   "id": "105c12ed",
   "metadata": {},
   "outputs": [
    {
     "ename": "AttributeError",
     "evalue": "module 'modeller' has no attribute 'environ'",
     "output_type": "error",
     "traceback": [
      "\u001b[0;31m---------------------------------------------------------------------------\u001b[0m",
      "\u001b[0;31mAttributeError\u001b[0m                            Traceback (most recent call last)",
      "\u001b[0;32m/var/folders/zn/n2d2qpcj7qb1lmqnh250v_6w0000gn/T/ipykernel_5809/1627954194.py\u001b[0m in \u001b[0;36m<module>\u001b[0;34m\u001b[0m\n\u001b[0;32m----> 1\u001b[0;31m \u001b[0menv\u001b[0m\u001b[0;34m=\u001b[0m\u001b[0mmodeller\u001b[0m\u001b[0;34m.\u001b[0m\u001b[0menviron\u001b[0m\u001b[0;34m(\u001b[0m\u001b[0;34m)\u001b[0m\u001b[0;34m\u001b[0m\u001b[0;34m\u001b[0m\u001b[0m\n\u001b[0m\u001b[1;32m      2\u001b[0m \u001b[0menv\u001b[0m\u001b[0;34m.\u001b[0m\u001b[0mio\u001b[0m\u001b[0;34m.\u001b[0m\u001b[0mhetatm\u001b[0m\u001b[0;34m=\u001b[0m\u001b[0;32mTrue\u001b[0m\u001b[0;34m\u001b[0m\u001b[0;34m\u001b[0m\u001b[0m\n\u001b[1;32m      3\u001b[0m \u001b[0malignm\u001b[0m\u001b[0;34m=\u001b[0m\u001b[0mmodeller\u001b[0m\u001b[0;34m.\u001b[0m\u001b[0malignment\u001b[0m\u001b[0;34m(\u001b[0m\u001b[0menv\u001b[0m\u001b[0;34m)\u001b[0m\u001b[0;34m\u001b[0m\u001b[0;34m\u001b[0m\u001b[0m\n",
      "\u001b[0;31mAttributeError\u001b[0m: module 'modeller' has no attribute 'environ'"
     ]
    }
   ],
   "source": [
    "env=modeller.environ()\n",
    "env.io.hetatm=True\n",
    "alignm=modeller.alignment(env)"
   ]
  },
  {
   "cell_type": "code",
   "execution_count": 21,
   "id": "b11c0748",
   "metadata": {},
   "outputs": [
    {
     "name": "stdout",
     "output_type": "stream",
     "text": [
      "--2022-12-26 18:58:52--  http://www.pdb.org/pdb/files/1lmp.pdb\n",
      "Resolving www.pdb.org (www.pdb.org)... 128.6.159.96\n",
      "Connecting to www.pdb.org (www.pdb.org)|128.6.159.96|:80... connected.\n",
      "HTTP request sent, awaiting response... 301 Moved Permanently\n",
      "Location: https://www.rcsb.org/pdb/files/1lmp.pdb [following]\n",
      "--2022-12-26 18:58:53--  https://www.rcsb.org/pdb/files/1lmp.pdb\n",
      "Resolving www.rcsb.org (www.rcsb.org)... 128.6.159.248\n",
      "Connecting to www.rcsb.org (www.rcsb.org)|128.6.159.248|:443... connected.\n",
      "HTTP request sent, awaiting response... 301 Moved Permanently\n",
      "Location: https://files.rcsb.org/download/1lmp.pdb [following]\n",
      "--2022-12-26 18:58:53--  https://files.rcsb.org/download/1lmp.pdb\n",
      "Resolving files.rcsb.org (files.rcsb.org)... 128.6.158.49\n",
      "Connecting to files.rcsb.org (files.rcsb.org)|128.6.158.49|:443... connected.\n",
      "HTTP request sent, awaiting response... 200 OK\n",
      "Length: unspecified [application/octet-stream]\n",
      "Saving to: '1lmp.pdb'\n",
      "\n",
      "1lmp.pdb                [  <=>               ] 125.85K   335KB/s    in 0.4s    \n",
      "\n",
      "2022-12-26 18:58:54 (335 KB/s) - '1lmp.pdb' saved [128871]\n",
      "\n"
     ]
    }
   ],
   "source": [
    "! wget http://www.pdb.org/pdb/files/1lmp.pdb"
   ]
  },
  {
   "cell_type": "code",
   "execution_count": 22,
   "id": "fade0c93",
   "metadata": {},
   "outputs": [
    {
     "name": "stdout",
     "output_type": "stream",
     "text": [
      "--2022-12-26 18:59:37--  http://www.uniprot.org/uniprot/P00700.fasta\n",
      "Resolving www.uniprot.org (www.uniprot.org)... 193.62.193.81\n",
      "Connecting to www.uniprot.org (www.uniprot.org)|193.62.193.81|:80... connected.\n",
      "HTTP request sent, awaiting response... 301 Moved Permanently\n",
      "Location: https://www.uniprot.org/uniprot/P00700.fasta [following]\n",
      "--2022-12-26 18:59:38--  https://www.uniprot.org/uniprot/P00700.fasta\n",
      "Connecting to www.uniprot.org (www.uniprot.org)|193.62.193.81|:443... connected.\n",
      "HTTP request sent, awaiting response... 301 Moved Permanently\n",
      "Location: https://rest.uniprot.org/uniprot/P00700.fasta [following]\n",
      "--2022-12-26 18:59:38--  https://rest.uniprot.org/uniprot/P00700.fasta\n",
      "Resolving rest.uniprot.org (rest.uniprot.org)... 193.62.193.81\n",
      "Connecting to rest.uniprot.org (rest.uniprot.org)|193.62.193.81|:443... connected.\n",
      "HTTP request sent, awaiting response... 301 Moved Permanently\n",
      "Location: https://rest.uniprot.org/uniprotkb/P00700.fasta [following]\n",
      "--2022-12-26 18:59:38--  https://rest.uniprot.org/uniprotkb/P00700.fasta\n",
      "Reusing existing connection to rest.uniprot.org:443.\n",
      "HTTP request sent, awaiting response... 200 OK\n",
      "Length: 213 [text/plain]\n",
      "Saving to: 'P00700.fasta'\n",
      "\n",
      "P00700.fasta        100%[===================>]     213  --.-KB/s    in 0s      \n",
      "\n",
      "2022-12-26 18:59:38 (203 MB/s) - 'P00700.fasta' saved [213/213]\n",
      "\n"
     ]
    }
   ],
   "source": [
    "!wget http://www.uniprot.org/uniprot/P00700.fasta"
   ]
  },
  {
   "cell_type": "code",
   "execution_count": 23,
   "id": "b44f6d70",
   "metadata": {},
   "outputs": [
    {
     "ename": "AttributeError",
     "evalue": "module 'modeller' has no attribute 'alignment'",
     "output_type": "error",
     "traceback": [
      "\u001b[0;31m---------------------------------------------------------------------------\u001b[0m",
      "\u001b[0;31mAttributeError\u001b[0m                            Traceback (most recent call last)",
      "\u001b[0;32m/var/folders/zn/n2d2qpcj7qb1lmqnh250v_6w0000gn/T/ipykernel_5809/4294823846.py\u001b[0m in \u001b[0;36m<module>\u001b[0;34m\u001b[0m\n\u001b[1;32m      1\u001b[0m \u001b[0;31m# Создаем выравнивание\u001b[0m\u001b[0;34m\u001b[0m\u001b[0;34m\u001b[0m\u001b[0m\n\u001b[0;32m----> 2\u001b[0;31m \u001b[0malignm\u001b[0m\u001b[0;34m=\u001b[0m\u001b[0mmodeller\u001b[0m\u001b[0;34m.\u001b[0m\u001b[0malignment\u001b[0m\u001b[0;34m(\u001b[0m\u001b[0menv\u001b[0m\u001b[0;34m)\u001b[0m\u001b[0;34m\u001b[0m\u001b[0;34m\u001b[0m\u001b[0m\n\u001b[0m\u001b[1;32m      3\u001b[0m \u001b[0malignm\u001b[0m\u001b[0;34m.\u001b[0m\u001b[0mappend\u001b[0m\u001b[0;34m(\u001b[0m\u001b[0mfile\u001b[0m\u001b[0;34m=\u001b[0m\u001b[0;34m'P00700.fasta'\u001b[0m\u001b[0;34m,\u001b[0m \u001b[0malign_codes\u001b[0m\u001b[0;34m=\u001b[0m\u001b[0;34m'all'\u001b[0m\u001b[0;34m,\u001b[0m\u001b[0malignment_format\u001b[0m\u001b[0;34m=\u001b[0m\u001b[0;34m'FASTA'\u001b[0m\u001b[0;34m)\u001b[0m\u001b[0;34m\u001b[0m\u001b[0;34m\u001b[0m\u001b[0m\n\u001b[1;32m      4\u001b[0m \u001b[0mmdl\u001b[0m \u001b[0;34m=\u001b[0m \u001b[0mmodeller\u001b[0m\u001b[0;34m.\u001b[0m\u001b[0mmodel\u001b[0m\u001b[0;34m(\u001b[0m\u001b[0menv\u001b[0m\u001b[0;34m,\u001b[0m \u001b[0mfile\u001b[0m\u001b[0;34m=\u001b[0m\u001b[0;34m'1lmp.pdb'\u001b[0m\u001b[0;34m,\u001b[0m \u001b[0mmodel_segment\u001b[0m\u001b[0;34m=\u001b[0m\u001b[0;34m(\u001b[0m\u001b[0;34m'FIRST:'\u001b[0m\u001b[0;34m+\u001b[0m\u001b[0;34m'A'\u001b[0m\u001b[0;34m,\u001b[0m \u001b[0;34m'LAST:'\u001b[0m\u001b[0;34m+\u001b[0m\u001b[0;34m'A'\u001b[0m\u001b[0;34m)\u001b[0m\u001b[0;34m)\u001b[0m\u001b[0;34m\u001b[0m\u001b[0;34m\u001b[0m\u001b[0m\n\u001b[1;32m      5\u001b[0m \u001b[0malignm\u001b[0m\u001b[0;34m.\u001b[0m\u001b[0mappend_model\u001b[0m\u001b[0;34m(\u001b[0m\u001b[0mmdl\u001b[0m\u001b[0;34m,\u001b[0m \u001b[0matom_files\u001b[0m\u001b[0;34m=\u001b[0m\u001b[0;34m'1lmp.pdb'\u001b[0m\u001b[0;34m,\u001b[0m \u001b[0malign_codes\u001b[0m\u001b[0;34m=\u001b[0m\u001b[0;34m'1lmp'\u001b[0m\u001b[0;34m)\u001b[0m\u001b[0;34m\u001b[0m\u001b[0;34m\u001b[0m\u001b[0m\n",
      "\u001b[0;31mAttributeError\u001b[0m: module 'modeller' has no attribute 'alignment'"
     ]
    }
   ],
   "source": [
    "# Создаем выравнивание\n",
    "alignm=modeller.alignment(env)\n",
    "alignm.append(file='P00700.fasta', align_codes='all',alignment_format='FASTA')\n",
    "mdl = modeller.model(env, file='1lmp.pdb', model_segment=('FIRST:'+'A', 'LAST:'+'A'))\n",
    "alignm.append_model(mdl, atom_files='1lmp.pdb', align_codes='1lmp')\n",
    "alignm[0].code = 'model'\n",
    "alignm[1].code = 'reference'\n",
    "\n",
    "# Производим выравнивание\n",
    "alignm.salign()\n",
    "alignm.write(file='all_in_one.ali', alignment_format='PIR')\n",
    "\n",
    "# Выбираем объект для моделирования \n",
    "s = alignm[0]\n",
    "pdb = alignm[1]\n",
    "\n",
    "# Создаем объект automodel\n",
    "a = modeller.automodel.automodel(env, alnfile='all_in_one.ali', knowns = pdb.code, sequence = s.code)\n",
    "a.name='mod'+s.code\n",
    "a.starting_model = 1\n",
    "a.ending_model = 1\n",
    "a.make()"
   ]
  },
  {
   "cell_type": "code",
   "execution_count": null,
   "id": "cde52540",
   "metadata": {},
   "outputs": [],
   "source": []
  }
 ],
 "metadata": {
  "kernelspec": {
   "display_name": "Python 3 (ipykernel)",
   "language": "python",
   "name": "python3"
  },
  "language_info": {
   "codemirror_mode": {
    "name": "ipython",
    "version": 3
   },
   "file_extension": ".py",
   "mimetype": "text/x-python",
   "name": "python",
   "nbconvert_exporter": "python",
   "pygments_lexer": "ipython3",
   "version": "3.9.13"
  }
 },
 "nbformat": 4,
 "nbformat_minor": 5
}
